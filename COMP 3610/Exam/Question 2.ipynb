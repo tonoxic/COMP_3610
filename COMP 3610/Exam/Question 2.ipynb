{
 "cells": [
  {
   "cell_type": "code",
   "execution_count": 1,
   "metadata": {},
   "outputs": [],
   "source": [
    "import pandas as pd\n",
    "import numpy as np\n",
    "import matplotlib.pyplot as plt\n",
    "import seaborn as sns"
   ]
  },
  {
   "cell_type": "markdown",
   "metadata": {},
   "source": [
    "##### Reading and general cleaning"
   ]
  },
  {
   "cell_type": "code",
   "execution_count": 2,
   "metadata": {},
   "outputs": [
    {
     "data": {
      "text/html": [
       "<div>\n",
       "<style scoped>\n",
       "    .dataframe tbody tr th:only-of-type {\n",
       "        vertical-align: middle;\n",
       "    }\n",
       "\n",
       "    .dataframe tbody tr th {\n",
       "        vertical-align: top;\n",
       "    }\n",
       "\n",
       "    .dataframe thead th {\n",
       "        text-align: right;\n",
       "    }\n",
       "</style>\n",
       "<table border=\"1\" class=\"dataframe\">\n",
       "  <thead>\n",
       "    <tr style=\"text-align: right;\">\n",
       "      <th></th>\n",
       "      <th>Unnamed: 0</th>\n",
       "      <th>author</th>\n",
       "      <th>date</th>\n",
       "      <th>num_paragraphs</th>\n",
       "      <th>text</th>\n",
       "      <th>title</th>\n",
       "    </tr>\n",
       "  </thead>\n",
       "  <tbody>\n",
       "    <tr>\n",
       "      <th>0</th>\n",
       "      <td>0</td>\n",
       "      <td>NaN</td>\n",
       "      <td>2018-01-31T00:00:00-04:00</td>\n",
       "      <td>6</td>\n",
       "      <td>All visits of friends and families to inmates ...</td>\n",
       "      <td>Funeral of slain prison officer today: all jai...</td>\n",
       "    </tr>\n",
       "    <tr>\n",
       "      <th>1</th>\n",
       "      <td>1</td>\n",
       "      <td>Gail Alexander</td>\n",
       "      <td>2017-11-29T00:00:00-04:00</td>\n",
       "      <td>15</td>\n",
       "      <td>Allyson Bakshs resignation from the Government...</td>\n",
       "      <td>Its a farceRamdeenPresidents | The Trinidad Gu...</td>\n",
       "    </tr>\n",
       "    <tr>\n",
       "      <th>2</th>\n",
       "      <td>2</td>\n",
       "      <td>Rosemarie Sant</td>\n",
       "      <td>2018-02-24T00:00:00-04:00</td>\n",
       "      <td>10</td>\n",
       "      <td>Finance Minister Colm Imbert is insisting that...</td>\n",
       "      <td>Imbert: New ferry can handle journey | The Tri...</td>\n",
       "    </tr>\n",
       "    <tr>\n",
       "      <th>3</th>\n",
       "      <td>3</td>\n",
       "      <td>SaschaWilson</td>\n",
       "      <td>2017-10-26T00:00:00-04:00</td>\n",
       "      <td>9</td>\n",
       "      <td>United National Congress (UNC) founder Basdeo ...</td>\n",
       "      <td>Panday: Call UNC election when due | The Trini...</td>\n",
       "    </tr>\n",
       "    <tr>\n",
       "      <th>4</th>\n",
       "      <td>4</td>\n",
       "      <td>Rosemarie Sant</td>\n",
       "      <td>2017-11-21T00:00:00-04:00</td>\n",
       "      <td>15</td>\n",
       "      <td>A&amp;V Oil and Gas attorneys say they are yet to ...</td>\n",
       "      <td>A&amp;V; waits on Kroll/Gaffney report | The Trini...</td>\n",
       "    </tr>\n",
       "  </tbody>\n",
       "</table>\n",
       "</div>"
      ],
      "text/plain": [
       "   Unnamed: 0          author                       date  num_paragraphs  \\\n",
       "0           0             NaN  2018-01-31T00:00:00-04:00               6   \n",
       "1           1  Gail Alexander  2017-11-29T00:00:00-04:00              15   \n",
       "2           2  Rosemarie Sant  2018-02-24T00:00:00-04:00              10   \n",
       "3           3    SaschaWilson  2017-10-26T00:00:00-04:00               9   \n",
       "4           4  Rosemarie Sant  2017-11-21T00:00:00-04:00              15   \n",
       "\n",
       "                                                text  \\\n",
       "0  All visits of friends and families to inmates ...   \n",
       "1  Allyson Bakshs resignation from the Government...   \n",
       "2  Finance Minister Colm Imbert is insisting that...   \n",
       "3  United National Congress (UNC) founder Basdeo ...   \n",
       "4  A&V Oil and Gas attorneys say they are yet to ...   \n",
       "\n",
       "                                               title  \n",
       "0  Funeral of slain prison officer today: all jai...  \n",
       "1  Its a farceRamdeenPresidents | The Trinidad Gu...  \n",
       "2  Imbert: New ferry can handle journey | The Tri...  \n",
       "3  Panday: Call UNC election when due | The Trini...  \n",
       "4  A&V; waits on Kroll/Gaffney report | The Trini...  "
      ]
     },
     "execution_count": 2,
     "metadata": {},
     "output_type": "execute_result"
    }
   ],
   "source": [
    "df=pd.read_csv('news.csv', header=0, sep=\"\\^\", engine='python')\n",
    "df.head()"
   ]
  },
  {
   "cell_type": "code",
   "execution_count": 3,
   "metadata": {},
   "outputs": [
    {
     "data": {
      "text/html": [
       "<div>\n",
       "<style scoped>\n",
       "    .dataframe tbody tr th:only-of-type {\n",
       "        vertical-align: middle;\n",
       "    }\n",
       "\n",
       "    .dataframe tbody tr th {\n",
       "        vertical-align: top;\n",
       "    }\n",
       "\n",
       "    .dataframe thead th {\n",
       "        text-align: right;\n",
       "    }\n",
       "</style>\n",
       "<table border=\"1\" class=\"dataframe\">\n",
       "  <thead>\n",
       "    <tr style=\"text-align: right;\">\n",
       "      <th></th>\n",
       "      <th>author</th>\n",
       "      <th>date</th>\n",
       "      <th>num_paragraphs</th>\n",
       "      <th>text</th>\n",
       "      <th>title</th>\n",
       "    </tr>\n",
       "  </thead>\n",
       "  <tbody>\n",
       "    <tr>\n",
       "      <th>0</th>\n",
       "      <td>NaN</td>\n",
       "      <td>2018-01-31T00:00:00-04:00</td>\n",
       "      <td>6</td>\n",
       "      <td>All visits of friends and families to inmates ...</td>\n",
       "      <td>Funeral of slain prison officer today: all jai...</td>\n",
       "    </tr>\n",
       "    <tr>\n",
       "      <th>1</th>\n",
       "      <td>Gail Alexander</td>\n",
       "      <td>2017-11-29T00:00:00-04:00</td>\n",
       "      <td>15</td>\n",
       "      <td>Allyson Bakshs resignation from the Government...</td>\n",
       "      <td>Its a farceRamdeenPresidents | The Trinidad Gu...</td>\n",
       "    </tr>\n",
       "    <tr>\n",
       "      <th>2</th>\n",
       "      <td>Rosemarie Sant</td>\n",
       "      <td>2018-02-24T00:00:00-04:00</td>\n",
       "      <td>10</td>\n",
       "      <td>Finance Minister Colm Imbert is insisting that...</td>\n",
       "      <td>Imbert: New ferry can handle journey | The Tri...</td>\n",
       "    </tr>\n",
       "    <tr>\n",
       "      <th>3</th>\n",
       "      <td>SaschaWilson</td>\n",
       "      <td>2017-10-26T00:00:00-04:00</td>\n",
       "      <td>9</td>\n",
       "      <td>United National Congress (UNC) founder Basdeo ...</td>\n",
       "      <td>Panday: Call UNC election when due | The Trini...</td>\n",
       "    </tr>\n",
       "    <tr>\n",
       "      <th>4</th>\n",
       "      <td>Rosemarie Sant</td>\n",
       "      <td>2017-11-21T00:00:00-04:00</td>\n",
       "      <td>15</td>\n",
       "      <td>A&amp;V Oil and Gas attorneys say they are yet to ...</td>\n",
       "      <td>A&amp;V; waits on Kroll/Gaffney report | The Trini...</td>\n",
       "    </tr>\n",
       "  </tbody>\n",
       "</table>\n",
       "</div>"
      ],
      "text/plain": [
       "           author                       date  num_paragraphs  \\\n",
       "0             NaN  2018-01-31T00:00:00-04:00               6   \n",
       "1  Gail Alexander  2017-11-29T00:00:00-04:00              15   \n",
       "2  Rosemarie Sant  2018-02-24T00:00:00-04:00              10   \n",
       "3    SaschaWilson  2017-10-26T00:00:00-04:00               9   \n",
       "4  Rosemarie Sant  2017-11-21T00:00:00-04:00              15   \n",
       "\n",
       "                                                text  \\\n",
       "0  All visits of friends and families to inmates ...   \n",
       "1  Allyson Bakshs resignation from the Government...   \n",
       "2  Finance Minister Colm Imbert is insisting that...   \n",
       "3  United National Congress (UNC) founder Basdeo ...   \n",
       "4  A&V Oil and Gas attorneys say they are yet to ...   \n",
       "\n",
       "                                               title  \n",
       "0  Funeral of slain prison officer today: all jai...  \n",
       "1  Its a farceRamdeenPresidents | The Trinidad Gu...  \n",
       "2  Imbert: New ferry can handle journey | The Tri...  \n",
       "3  Panday: Call UNC election when due | The Trini...  \n",
       "4  A&V; waits on Kroll/Gaffney report | The Trini...  "
      ]
     },
     "execution_count": 3,
     "metadata": {},
     "output_type": "execute_result"
    }
   ],
   "source": [
    "df.drop(df.columns[0], axis=1, inplace=True)\n",
    "df.head()"
   ]
  },
  {
   "cell_type": "code",
   "execution_count": 4,
   "metadata": {},
   "outputs": [
    {
     "data": {
      "text/html": [
       "<div>\n",
       "<style scoped>\n",
       "    .dataframe tbody tr th:only-of-type {\n",
       "        vertical-align: middle;\n",
       "    }\n",
       "\n",
       "    .dataframe tbody tr th {\n",
       "        vertical-align: top;\n",
       "    }\n",
       "\n",
       "    .dataframe thead th {\n",
       "        text-align: right;\n",
       "    }\n",
       "</style>\n",
       "<table border=\"1\" class=\"dataframe\">\n",
       "  <thead>\n",
       "    <tr style=\"text-align: right;\">\n",
       "      <th></th>\n",
       "      <th>num_paragraphs</th>\n",
       "    </tr>\n",
       "  </thead>\n",
       "  <tbody>\n",
       "    <tr>\n",
       "      <th>count</th>\n",
       "      <td>2381.000000</td>\n",
       "    </tr>\n",
       "    <tr>\n",
       "      <th>mean</th>\n",
       "      <td>13.713566</td>\n",
       "    </tr>\n",
       "    <tr>\n",
       "      <th>std</th>\n",
       "      <td>12.724928</td>\n",
       "    </tr>\n",
       "    <tr>\n",
       "      <th>min</th>\n",
       "      <td>0.000000</td>\n",
       "    </tr>\n",
       "    <tr>\n",
       "      <th>25%</th>\n",
       "      <td>9.000000</td>\n",
       "    </tr>\n",
       "    <tr>\n",
       "      <th>50%</th>\n",
       "      <td>12.000000</td>\n",
       "    </tr>\n",
       "    <tr>\n",
       "      <th>75%</th>\n",
       "      <td>16.000000</td>\n",
       "    </tr>\n",
       "    <tr>\n",
       "      <th>max</th>\n",
       "      <td>491.000000</td>\n",
       "    </tr>\n",
       "  </tbody>\n",
       "</table>\n",
       "</div>"
      ],
      "text/plain": [
       "       num_paragraphs\n",
       "count     2381.000000\n",
       "mean        13.713566\n",
       "std         12.724928\n",
       "min          0.000000\n",
       "25%          9.000000\n",
       "50%         12.000000\n",
       "75%         16.000000\n",
       "max        491.000000"
      ]
     },
     "execution_count": 4,
     "metadata": {},
     "output_type": "execute_result"
    }
   ],
   "source": [
    "df.describe()"
   ]
  },
  {
   "cell_type": "code",
   "execution_count": 5,
   "metadata": {},
   "outputs": [
    {
     "data": {
      "text/html": [
       "<div>\n",
       "<style scoped>\n",
       "    .dataframe tbody tr th:only-of-type {\n",
       "        vertical-align: middle;\n",
       "    }\n",
       "\n",
       "    .dataframe tbody tr th {\n",
       "        vertical-align: top;\n",
       "    }\n",
       "\n",
       "    .dataframe thead th {\n",
       "        text-align: right;\n",
       "    }\n",
       "</style>\n",
       "<table border=\"1\" class=\"dataframe\">\n",
       "  <thead>\n",
       "    <tr style=\"text-align: right;\">\n",
       "      <th></th>\n",
       "      <th>author</th>\n",
       "      <th>date</th>\n",
       "      <th>text</th>\n",
       "      <th>title</th>\n",
       "    </tr>\n",
       "  </thead>\n",
       "  <tbody>\n",
       "    <tr>\n",
       "      <th>count</th>\n",
       "      <td>1778</td>\n",
       "      <td>2381</td>\n",
       "      <td>2378</td>\n",
       "      <td>2381</td>\n",
       "    </tr>\n",
       "    <tr>\n",
       "      <th>unique</th>\n",
       "      <td>49</td>\n",
       "      <td>208</td>\n",
       "      <td>2376</td>\n",
       "      <td>2367</td>\n",
       "    </tr>\n",
       "    <tr>\n",
       "      <th>top</th>\n",
       "      <td>Rosemarie Sant</td>\n",
       "      <td>2017-11-07T00:00:00-04:00</td>\n",
       "      <td>When Darryl Smith entered office in September ...</td>\n",
       "      <td>Teen rape suspect now accused of incest | The ...</td>\n",
       "    </tr>\n",
       "    <tr>\n",
       "      <th>freq</th>\n",
       "      <td>221</td>\n",
       "      <td>26</td>\n",
       "      <td>2</td>\n",
       "      <td>2</td>\n",
       "    </tr>\n",
       "  </tbody>\n",
       "</table>\n",
       "</div>"
      ],
      "text/plain": [
       "                author                       date  \\\n",
       "count             1778                       2381   \n",
       "unique              49                        208   \n",
       "top     Rosemarie Sant  2017-11-07T00:00:00-04:00   \n",
       "freq               221                         26   \n",
       "\n",
       "                                                     text  \\\n",
       "count                                                2378   \n",
       "unique                                               2376   \n",
       "top     When Darryl Smith entered office in September ...   \n",
       "freq                                                    2   \n",
       "\n",
       "                                                    title  \n",
       "count                                                2381  \n",
       "unique                                               2367  \n",
       "top     Teen rape suspect now accused of incest | The ...  \n",
       "freq                                                    2  "
      ]
     },
     "execution_count": 5,
     "metadata": {},
     "output_type": "execute_result"
    }
   ],
   "source": [
    "obj = df.dtypes[df.dtypes == \"object\"].index\n",
    "df[obj].describe()"
   ]
  },
  {
   "cell_type": "code",
   "execution_count": 6,
   "metadata": {},
   "outputs": [
    {
     "data": {
      "text/plain": [
       "Index(['author', 'text'], dtype='object')"
      ]
     },
     "execution_count": 6,
     "metadata": {},
     "output_type": "execute_result"
    }
   ],
   "source": [
    "missing = df.columns[df.isna().any()]\n",
    "missing"
   ]
  },
  {
   "cell_type": "markdown",
   "metadata": {},
   "source": [
    "Some authors are missing as well as some texts.  We can't just fill authors with mean or median as it would seem as if those works really belong to that author.  We can fill missing authors with  \"Anonymous\" or \"John Doe\".  For missing texts, we will drop those rows with missing texts as it is just a few texts that are missing.  Also, missing text means we essentially don't have data on that news report."
   ]
  },
  {
   "cell_type": "code",
   "execution_count": 7,
   "metadata": {},
   "outputs": [
    {
     "data": {
      "text/html": [
       "<div>\n",
       "<style scoped>\n",
       "    .dataframe tbody tr th:only-of-type {\n",
       "        vertical-align: middle;\n",
       "    }\n",
       "\n",
       "    .dataframe tbody tr th {\n",
       "        vertical-align: top;\n",
       "    }\n",
       "\n",
       "    .dataframe thead th {\n",
       "        text-align: right;\n",
       "    }\n",
       "</style>\n",
       "<table border=\"1\" class=\"dataframe\">\n",
       "  <thead>\n",
       "    <tr style=\"text-align: right;\">\n",
       "      <th></th>\n",
       "      <th>author</th>\n",
       "      <th>date</th>\n",
       "      <th>text</th>\n",
       "      <th>title</th>\n",
       "    </tr>\n",
       "  </thead>\n",
       "  <tbody>\n",
       "    <tr>\n",
       "      <th>count</th>\n",
       "      <td>2378</td>\n",
       "      <td>2378</td>\n",
       "      <td>2378</td>\n",
       "      <td>2378</td>\n",
       "    </tr>\n",
       "    <tr>\n",
       "      <th>unique</th>\n",
       "      <td>50</td>\n",
       "      <td>208</td>\n",
       "      <td>2376</td>\n",
       "      <td>2364</td>\n",
       "    </tr>\n",
       "    <tr>\n",
       "      <th>top</th>\n",
       "      <td>John Doe</td>\n",
       "      <td>2017-11-07T00:00:00-04:00</td>\n",
       "      <td>When Darryl Smith entered office in September ...</td>\n",
       "      <td>Teen rape suspect now accused of incest | The ...</td>\n",
       "    </tr>\n",
       "    <tr>\n",
       "      <th>freq</th>\n",
       "      <td>600</td>\n",
       "      <td>26</td>\n",
       "      <td>2</td>\n",
       "      <td>2</td>\n",
       "    </tr>\n",
       "  </tbody>\n",
       "</table>\n",
       "</div>"
      ],
      "text/plain": [
       "          author                       date  \\\n",
       "count       2378                       2378   \n",
       "unique        50                        208   \n",
       "top     John Doe  2017-11-07T00:00:00-04:00   \n",
       "freq         600                         26   \n",
       "\n",
       "                                                     text  \\\n",
       "count                                                2378   \n",
       "unique                                               2376   \n",
       "top     When Darryl Smith entered office in September ...   \n",
       "freq                                                    2   \n",
       "\n",
       "                                                    title  \n",
       "count                                                2378  \n",
       "unique                                               2364  \n",
       "top     Teen rape suspect now accused of incest | The ...  \n",
       "freq                                                    2  "
      ]
     },
     "execution_count": 7,
     "metadata": {},
     "output_type": "execute_result"
    }
   ],
   "source": [
    "df[\"author\"].fillna(\"John Doe\", inplace=True)\n",
    "df.dropna(subset=[\"text\"], inplace=True)\n",
    "df[obj].describe()"
   ]
  },
  {
   "cell_type": "code",
   "execution_count": 8,
   "metadata": {},
   "outputs": [
    {
     "data": {
      "text/plain": [
       "array(['John Doe', 'Gail Alexander', 'Rosemarie Sant', 'SaschaWilson',\n",
       "       'Geisha Kowlessar', 'Rhondor Dowlat', 'Nadaleen Singh',\n",
       "       'Kevon Felmine', 'Derek Achong', 'ShalizaHassanali',\n",
       "       'Kalifa Clyne', 'Anna-Lisa Paul', 'Radhica Sookraj',\n",
       "       'Casandra Thompson-Forbes', 'Joel Julien', 'Charles Kong Soo',\n",
       "       'Camille Clarke', 'Jensen La Vende', 'Casandra ThompsonForbes',\n",
       "       'Shastri Boodan', 'RADHICA DE SILVA', 'Khamal Georges',\n",
       "       'Wesley Gibbings', 'Bobie-Lee Dixon', 'Darren Bahaw',\n",
       "       ' Rosemarie Sant', 'SHALIZA HASSANALI ', 'Suzanne Sheppard',\n",
       "       'Rapheal John-Lall', 'Sascha Wilson', 'Shaliza Hassanali',\n",
       "       'GEISHA ALONZO', ' Shastri Boodan ', 'RALPH BANWARIE',\n",
       "       'STORIES BY KEVON FELMINE', 'Debra Wanser', 'Joanne Briggs',\n",
       "       'Nasser Khan ', 'Roshan Ramcharitar', 'Curtis Williams',\n",
       "       'Rhondor Dowlat ', 'stories by Rosemarie Sant', 'ASCHA WILSON',\n",
       "       'By Peter Richards', 'STORIES BY SASCHA WILSON', 'SASCHA WILSON ',\n",
       "       'nna-Lisa Paul', 'Gabrielle Hosein', 'STORIES BY Anna-Lisa Paul',\n",
       "       'Rachael Thomspon-King'], dtype=object)"
      ]
     },
     "execution_count": 8,
     "metadata": {},
     "output_type": "execute_result"
    }
   ],
   "source": [
    "df[\"author\"].unique()"
   ]
  },
  {
   "cell_type": "markdown",
   "metadata": {},
   "source": [
    "words like \"Stories\" and \"by\" should be removed from the author list"
   ]
  },
  {
   "cell_type": "code",
   "execution_count": 9,
   "metadata": {},
   "outputs": [
    {
     "data": {
      "text/plain": [
       "array(['john doe', 'gail alexander', 'rosemarie sant', 'saschawilson',\n",
       "       'geisha kowlessar', 'rhondor dowlat', 'nadaleen singh',\n",
       "       'kevon felmine', 'derek achong', 'shalizahassanali',\n",
       "       'kalifa clyne', 'anna lisa paul', 'radhica sookraj',\n",
       "       'casandra thompson forbes', 'joel julien', 'charles kong soo',\n",
       "       'camille clarke', 'jensen la vende', 'casandra thompsonforbes',\n",
       "       'shastri boodan', 'radhica de silva', 'khamal georges',\n",
       "       'wesley gibbings', 'bobie lee dixon', 'darren bahaw',\n",
       "       'shaliza hassanali ', 'suzanne sheppard', 'rapheal john lall',\n",
       "       'sascha wilson', 'shaliza hassanali', 'geisha alonzo',\n",
       "       'shastri boodan ', 'ralph banwarie', 'debra wanser',\n",
       "       'joanne briggs', 'nasser khan ', 'roshan ramcharitar',\n",
       "       'curtis williams', 'rhondor dowlat ', 'ascha wilson',\n",
       "       'peter richards', 'sascha wilson ', 'nna lisa paul',\n",
       "       'gabrielle hosein', 'rachael thomspon king'], dtype=object)"
      ]
     },
     "execution_count": 9,
     "metadata": {},
     "output_type": "execute_result"
    }
   ],
   "source": [
    "df[\"author\"]=df[\"author\"].str.lower()\n",
    "df['author'] = df['author'].str.replace(r'-', \" \")\n",
    "df['author'] = df['author'].str.replace(r'stories by', \"\")\n",
    "df['author'] = df['author'].str.replace(r'by', \"\")\n",
    "df['author'] = df['author'].str.lstrip()\n",
    "df[\"author\"].unique()"
   ]
  },
  {
   "cell_type": "markdown",
   "metadata": {},
   "source": [
    "The name \"shaliza hassanali\" is the same as \"shalizahassanali\" so let's replace it.  There is a few examples like this so let's fix it"
   ]
  },
  {
   "cell_type": "code",
   "execution_count": 10,
   "metadata": {},
   "outputs": [
    {
     "name": "stdout",
     "output_type": "stream",
     "text": [
      "['john doe' 'gail alexander' 'rosemarie sant' 'sascha wilson'\n",
      " 'geisha kowlessar' 'rhondor dowlat' 'nadaleen singh' 'kevon felmine'\n",
      " 'derek achong' 'shaliza hassanali' 'kalifa clyne' 'aanna lisa paul'\n",
      " 'radhica sookraj' 'casandra thompson forbes' 'joel julien'\n",
      " 'charles kong soo' 'camille clarke' 'jensen la vende' 'shastri boodan'\n",
      " 'radhica de silva' 'khamal georges' 'wesley gibbings' 'bobie lee dixon'\n",
      " 'darren bahaw' 'shaliza hassanali ' 'suzanne sheppard'\n",
      " 'rapheal john lall' 'geisha alonzo' 'shastri boodan ' 'ralph banwarie'\n",
      " 'debra wanser' 'joanne briggs' 'nasser khan ' 'roshan ramcharitar'\n",
      " 'curtis williams' 'rhondor dowlat ' 'ascha wilson' 'peter richards'\n",
      " 'sascha wilson ' 'anna lisa paul' 'gabrielle hosein'\n",
      " 'rachael thomspon king']\n"
     ]
    },
    {
     "data": {
      "text/plain": [
       "count         2378\n",
       "unique          42\n",
       "top       john doe\n",
       "freq           600\n",
       "Name: author, dtype: object"
      ]
     },
     "execution_count": 10,
     "metadata": {},
     "output_type": "execute_result"
    }
   ],
   "source": [
    "df['author'] = df['author'].str.replace(r'shalizahassanali', 'shaliza hassanali')\n",
    "df['author'] = df['author'].str.replace(r'saschawilson', 'sascha wilson')\n",
    "df['author'] = df['author'].str.replace(r'casandra thompsonforbes', 'casandra thompson forbes')\n",
    "df['author'] = df['author'].str.replace(r'nna lisa paul', 'anna lisa paul')\n",
    "print(df[\"author\"].unique())\n",
    "df[\"author\"].describe()"
   ]
  },
  {
   "cell_type": "code",
   "execution_count": 11,
   "metadata": {},
   "outputs": [
    {
     "name": "stdout",
     "output_type": "stream",
     "text": [
      "       num_paragraphs\n",
      "count     2374.000000\n",
      "mean        13.730413\n",
      "std         12.735195\n",
      "min          1.000000\n",
      "25%          9.000000\n",
      "50%         12.000000\n",
      "75%         16.000000\n",
      "max        491.000000\n"
     ]
    },
    {
     "data": {
      "text/html": [
       "<div>\n",
       "<style scoped>\n",
       "    .dataframe tbody tr th:only-of-type {\n",
       "        vertical-align: middle;\n",
       "    }\n",
       "\n",
       "    .dataframe tbody tr th {\n",
       "        vertical-align: top;\n",
       "    }\n",
       "\n",
       "    .dataframe thead th {\n",
       "        text-align: right;\n",
       "    }\n",
       "</style>\n",
       "<table border=\"1\" class=\"dataframe\">\n",
       "  <thead>\n",
       "    <tr style=\"text-align: right;\">\n",
       "      <th></th>\n",
       "      <th>author</th>\n",
       "      <th>date</th>\n",
       "      <th>text</th>\n",
       "      <th>title</th>\n",
       "    </tr>\n",
       "  </thead>\n",
       "  <tbody>\n",
       "    <tr>\n",
       "      <th>count</th>\n",
       "      <td>2374</td>\n",
       "      <td>2374</td>\n",
       "      <td>2374</td>\n",
       "      <td>2374</td>\n",
       "    </tr>\n",
       "    <tr>\n",
       "      <th>unique</th>\n",
       "      <td>42</td>\n",
       "      <td>208</td>\n",
       "      <td>2374</td>\n",
       "      <td>2362</td>\n",
       "    </tr>\n",
       "    <tr>\n",
       "      <th>top</th>\n",
       "      <td>john doe</td>\n",
       "      <td>2017-11-07T00:00:00-04:00</td>\n",
       "      <td>He took some time after the surprise announcem...</td>\n",
       "      <td>Tewarie: Chaguaramas land deals above board | ...</td>\n",
       "    </tr>\n",
       "    <tr>\n",
       "      <th>freq</th>\n",
       "      <td>598</td>\n",
       "      <td>26</td>\n",
       "      <td>1</td>\n",
       "      <td>2</td>\n",
       "    </tr>\n",
       "  </tbody>\n",
       "</table>\n",
       "</div>"
      ],
      "text/plain": [
       "          author                       date  \\\n",
       "count       2374                       2374   \n",
       "unique        42                        208   \n",
       "top     john doe  2017-11-07T00:00:00-04:00   \n",
       "freq         598                         26   \n",
       "\n",
       "                                                     text  \\\n",
       "count                                                2374   \n",
       "unique                                               2374   \n",
       "top     He took some time after the surprise announcem...   \n",
       "freq                                                    1   \n",
       "\n",
       "                                                    title  \n",
       "count                                                2374  \n",
       "unique                                               2362  \n",
       "top     Tewarie: Chaguaramas land deals above board | ...  \n",
       "freq                                                    2  "
      ]
     },
     "execution_count": 11,
     "metadata": {},
     "output_type": "execute_result"
    }
   ],
   "source": [
    "df.drop_duplicates(keep=False, inplace=True)\n",
    "print(df.describe())\n",
    "df[obj].describe()"
   ]
  },
  {
   "cell_type": "markdown",
   "metadata": {},
   "source": [
    "Duplicate values have been dropped"
   ]
  },
  {
   "cell_type": "code",
   "execution_count": 12,
   "metadata": {},
   "outputs": [],
   "source": [
    "from sklearn.decomposition import NMF, LatentDirichletAllocation, TruncatedSVD\n",
    "from nltk import word_tokenize\n",
    "from nltk.corpus import stopwords\n",
    "from nltk.stem import WordNetLemmatizer\n",
    "from sklearn.feature_extraction.text import CountVectorizer\n",
    "from sklearn.feature_extraction.text import TfidfVectorizer"
   ]
  },
  {
   "cell_type": "markdown",
   "metadata": {},
   "source": [
    "##### Cleaning Title and Text"
   ]
  },
  {
   "cell_type": "code",
   "execution_count": 13,
   "metadata": {},
   "outputs": [
    {
     "data": {
      "text/plain": [
       "0     Funeral of slain prison officer today: all jai...\n",
       "1     Its a farceRamdeenPresidents | The Trinidad Gu...\n",
       "2     Imbert: New ferry can handle journey | The Tri...\n",
       "3     Panday: Call UNC election when due | The Trini...\n",
       "4     A&V; waits on Kroll/Gaffney report | The Trini...\n",
       "5     Fifth member of JLSC appointed | The Trinidad ...\n",
       "6     Shut your mouth | The Trinidad Guardian Newspaper\n",
       "7     Muslims claim police provocation at sando rall...\n",
       "8     Cops: Gangs recruiting teens to hide weapons, ...\n",
       "9     Cops to review video footage to detect law bre...\n",
       "10    Cellphone thief nabbed at SFGH | The Trinidad ...\n",
       "11    Tax increase short-sighted | The Trinidad Guar...\n",
       "12    Reject xenophobia | The Trinidad Guardian News...\n",
       "13    Crash victims mom wants Govt to help him | The...\n",
       "14    Taxi driver killed, dumped in Caroni | The Tri...\n",
       "15    State to pay half of Devants legal cost in wir...\n",
       "16    Carmona: Crime rate untenable | The Trinidad G...\n",
       "17    Homeless seek shelter | The Trinidad Guardian ...\n",
       "18    People left to suffer in floodKublalsingh | Th...\n",
       "19    Workers claim sabotage at St Augustine Nurseri...\n",
       "Name: title, dtype: object"
      ]
     },
     "execution_count": 13,
     "metadata": {},
     "output_type": "execute_result"
    }
   ],
   "source": [
    "df[\"title\"].head(20)"
   ]
  },
  {
   "cell_type": "code",
   "execution_count": 14,
   "metadata": {},
   "outputs": [
    {
     "data": {
      "text/plain": [
       "0     All visits of friends and families to inmates ...\n",
       "1     Allyson Bakshs resignation from the Government...\n",
       "2     Finance Minister Colm Imbert is insisting that...\n",
       "3     United National Congress (UNC) founder Basdeo ...\n",
       "4     A&V Oil and Gas attorneys say they are yet to ...\n",
       "5     \"Attorney Nicole Beaubrun-Toby was yesterday a...\n",
       "6     Prime Minister Dr Keith Rowley yesterday react...\n",
       "7     Members of the T&T Police Service were blamed ...\n",
       "8     Police are closely monitoring a disturbing tre...\n",
       "9     Port-of-Spain Division Snr Supt Floris Hodge-G...\n",
       "10    Patients at the San Fernando General Hospital ...\n",
       "11    The Bankers Association of T&T (BATT) has desc...\n",
       "12    Interim Rector of the Cathedral Church of Holy...\n",
       "13    Grimacing at the surgical cut on his chest and...\n",
       "14    A taxi driver who went missing after he left h...\n",
       "15    The State has been ordered to pay half the leg...\n",
       "16    President Anthony Carmona yesterday expressed ...\n",
       "17    Two days after the Port-of-Spain City Corporat...\n",
       "18    \"Development Economist and activist Dr Wayne K...\n",
       "19    Employees at the St Augustine Nurseries are cl...\n",
       "Name: text, dtype: object"
      ]
     },
     "execution_count": 14,
     "metadata": {},
     "output_type": "execute_result"
    }
   ],
   "source": [
    "df[\"text\"].head(20)"
   ]
  },
  {
   "cell_type": "markdown",
   "metadata": {},
   "source": [
    "We can remove brackets and quotations as well as any other punctuations including strokes"
   ]
  },
  {
   "cell_type": "code",
   "execution_count": 15,
   "metadata": {},
   "outputs": [],
   "source": [
    "tokens_title = df[\"title\"].apply(lambda x:word_tokenize(x))\n",
    "tokens_text = df[\"text\"].apply(lambda x:word_tokenize(x))"
   ]
  },
  {
   "cell_type": "code",
   "execution_count": 16,
   "metadata": {},
   "outputs": [],
   "source": [
    "tokens_title = tokens_title.apply(lambda instance: [word.lower() for word in instance if word.isalpha()]  )\n",
    "tokens_text = tokens_text.apply(lambda instance: [word.lower() for word in instance if word.isalpha()]  )"
   ]
  },
  {
   "cell_type": "code",
   "execution_count": 17,
   "metadata": {},
   "outputs": [
    {
     "data": {
      "text/plain": [
       "0    [funeral, of, slain, prison, officer, today, a...\n",
       "1    [its, a, farceramdeenpresidents, the, trinidad...\n",
       "2    [imbert, new, ferry, can, handle, journey, the...\n",
       "3    [panday, call, unc, election, when, due, the, ...\n",
       "4    [a, v, waits, on, report, the, trinidad, guard...\n",
       "Name: title, dtype: object"
      ]
     },
     "execution_count": 17,
     "metadata": {},
     "output_type": "execute_result"
    }
   ],
   "source": [
    "tokens_title.head()"
   ]
  },
  {
   "cell_type": "code",
   "execution_count": 18,
   "metadata": {},
   "outputs": [
    {
     "data": {
      "text/plain": [
       "0    [all, visits, of, friends, and, families, to, ...\n",
       "1    [allyson, bakshs, resignation, from, the, gove...\n",
       "2    [finance, minister, colm, imbert, is, insistin...\n",
       "3    [united, national, congress, unc, founder, bas...\n",
       "4    [a, v, oil, and, gas, attorneys, say, they, ar...\n",
       "Name: text, dtype: object"
      ]
     },
     "execution_count": 18,
     "metadata": {},
     "output_type": "execute_result"
    }
   ],
   "source": [
    "tokens_text.head()"
   ]
  },
  {
   "cell_type": "markdown",
   "metadata": {},
   "source": [
    "Remove common words from the english language."
   ]
  },
  {
   "cell_type": "code",
   "execution_count": 19,
   "metadata": {},
   "outputs": [],
   "source": [
    "stop_words = set(stopwords.words('english'))\n",
    "tokens_title = tokens_title.apply(lambda instance: [word for word in instance if not word in stop_words]  )\n",
    "tokens_text = tokens_text.apply(lambda instance: [word for word in instance if not word in stop_words]  )"
   ]
  },
  {
   "cell_type": "markdown",
   "metadata": {},
   "source": [
    "Reduce words to their stems using word lematization"
   ]
  },
  {
   "cell_type": "code",
   "execution_count": 20,
   "metadata": {},
   "outputs": [],
   "source": [
    "lemmatizer = WordNetLemmatizer()\n",
    "tokens_title = tokens_title.apply(lambda instance:[lemmatizer.lemmatize(word, pos=\"v\") for word in instance])\n",
    "tokens_text = tokens_text.apply(lambda instance:[lemmatizer.lemmatize(word, pos=\"v\") for word in instance])"
   ]
  },
  {
   "cell_type": "code",
   "execution_count": 21,
   "metadata": {},
   "outputs": [
    {
     "data": {
      "text/plain": [
       "0    [funeral, slay, prison, officer, today, jail, ...\n",
       "1    [farceramdeenpresidents, trinidad, guardian, n...\n",
       "2    [imbert, new, ferry, handle, journey, trinidad...\n",
       "3    [panday, call, unc, election, due, trinidad, g...\n",
       "4     [v, wait, report, trinidad, guardian, newspaper]\n",
       "Name: title, dtype: object"
      ]
     },
     "execution_count": 21,
     "metadata": {},
     "output_type": "execute_result"
    }
   ],
   "source": [
    "tokens_title.head()"
   ]
  },
  {
   "cell_type": "code",
   "execution_count": 22,
   "metadata": {},
   "outputs": [
    {
     "data": {
      "text/plain": [
       "0    [visit, friends, families, inmates, prison, fa...\n",
       "1    [allyson, bakshs, resignation, governments, se...\n",
       "2    [finance, minister, colm, imbert, insist, gall...\n",
       "3    [unite, national, congress, unc, founder, basd...\n",
       "4    [v, oil, gas, attorneys, say, yet, receive, re...\n",
       "Name: text, dtype: object"
      ]
     },
     "execution_count": 22,
     "metadata": {},
     "output_type": "execute_result"
    }
   ],
   "source": [
    "tokens_text.head()"
   ]
  },
  {
   "cell_type": "code",
   "execution_count": 23,
   "metadata": {},
   "outputs": [],
   "source": [
    "df[\"title_clean\"]=tokens_title.apply(lambda instance: \" \".join(instance))\n",
    "df[\"text_clean\"]=tokens_text.apply(lambda instance: \" \".join(instance))"
   ]
  },
  {
   "cell_type": "code",
   "execution_count": 24,
   "metadata": {},
   "outputs": [
    {
     "data": {
      "text/html": [
       "<div>\n",
       "<style scoped>\n",
       "    .dataframe tbody tr th:only-of-type {\n",
       "        vertical-align: middle;\n",
       "    }\n",
       "\n",
       "    .dataframe tbody tr th {\n",
       "        vertical-align: top;\n",
       "    }\n",
       "\n",
       "    .dataframe thead th {\n",
       "        text-align: right;\n",
       "    }\n",
       "</style>\n",
       "<table border=\"1\" class=\"dataframe\">\n",
       "  <thead>\n",
       "    <tr style=\"text-align: right;\">\n",
       "      <th></th>\n",
       "      <th>author</th>\n",
       "      <th>date</th>\n",
       "      <th>num_paragraphs</th>\n",
       "      <th>text</th>\n",
       "      <th>title</th>\n",
       "      <th>title_clean</th>\n",
       "      <th>text_clean</th>\n",
       "    </tr>\n",
       "  </thead>\n",
       "  <tbody>\n",
       "    <tr>\n",
       "      <th>0</th>\n",
       "      <td>john doe</td>\n",
       "      <td>2018-01-31T00:00:00-04:00</td>\n",
       "      <td>6</td>\n",
       "      <td>All visits of friends and families to inmates ...</td>\n",
       "      <td>Funeral of slain prison officer today: all jai...</td>\n",
       "      <td>funeral slay prison officer today jail suspend...</td>\n",
       "      <td>visit friends families inmates prison faciliti...</td>\n",
       "    </tr>\n",
       "    <tr>\n",
       "      <th>1</th>\n",
       "      <td>gail alexander</td>\n",
       "      <td>2017-11-29T00:00:00-04:00</td>\n",
       "      <td>15</td>\n",
       "      <td>Allyson Bakshs resignation from the Government...</td>\n",
       "      <td>Its a farceRamdeenPresidents | The Trinidad Gu...</td>\n",
       "      <td>farceramdeenpresidents trinidad guardian newsp...</td>\n",
       "      <td>allyson bakshs resignation governments senate ...</td>\n",
       "    </tr>\n",
       "    <tr>\n",
       "      <th>2</th>\n",
       "      <td>rosemarie sant</td>\n",
       "      <td>2018-02-24T00:00:00-04:00</td>\n",
       "      <td>10</td>\n",
       "      <td>Finance Minister Colm Imbert is insisting that...</td>\n",
       "      <td>Imbert: New ferry can handle journey | The Tri...</td>\n",
       "      <td>imbert new ferry handle journey trinidad guard...</td>\n",
       "      <td>finance minister colm imbert insist galleons p...</td>\n",
       "    </tr>\n",
       "    <tr>\n",
       "      <th>3</th>\n",
       "      <td>sascha wilson</td>\n",
       "      <td>2017-10-26T00:00:00-04:00</td>\n",
       "      <td>9</td>\n",
       "      <td>United National Congress (UNC) founder Basdeo ...</td>\n",
       "      <td>Panday: Call UNC election when due | The Trini...</td>\n",
       "      <td>panday call unc election due trinidad guardian...</td>\n",
       "      <td>unite national congress unc founder basdeo pan...</td>\n",
       "    </tr>\n",
       "    <tr>\n",
       "      <th>4</th>\n",
       "      <td>rosemarie sant</td>\n",
       "      <td>2017-11-21T00:00:00-04:00</td>\n",
       "      <td>15</td>\n",
       "      <td>A&amp;V Oil and Gas attorneys say they are yet to ...</td>\n",
       "      <td>A&amp;V; waits on Kroll/Gaffney report | The Trini...</td>\n",
       "      <td>v wait report trinidad guardian newspaper</td>\n",
       "      <td>v oil gas attorneys say yet receive report can...</td>\n",
       "    </tr>\n",
       "  </tbody>\n",
       "</table>\n",
       "</div>"
      ],
      "text/plain": [
       "           author                       date  num_paragraphs  \\\n",
       "0        john doe  2018-01-31T00:00:00-04:00               6   \n",
       "1  gail alexander  2017-11-29T00:00:00-04:00              15   \n",
       "2  rosemarie sant  2018-02-24T00:00:00-04:00              10   \n",
       "3   sascha wilson  2017-10-26T00:00:00-04:00               9   \n",
       "4  rosemarie sant  2017-11-21T00:00:00-04:00              15   \n",
       "\n",
       "                                                text  \\\n",
       "0  All visits of friends and families to inmates ...   \n",
       "1  Allyson Bakshs resignation from the Government...   \n",
       "2  Finance Minister Colm Imbert is insisting that...   \n",
       "3  United National Congress (UNC) founder Basdeo ...   \n",
       "4  A&V Oil and Gas attorneys say they are yet to ...   \n",
       "\n",
       "                                               title  \\\n",
       "0  Funeral of slain prison officer today: all jai...   \n",
       "1  Its a farceRamdeenPresidents | The Trinidad Gu...   \n",
       "2  Imbert: New ferry can handle journey | The Tri...   \n",
       "3  Panday: Call UNC election when due | The Trini...   \n",
       "4  A&V; waits on Kroll/Gaffney report | The Trini...   \n",
       "\n",
       "                                         title_clean  \\\n",
       "0  funeral slay prison officer today jail suspend...   \n",
       "1  farceramdeenpresidents trinidad guardian newsp...   \n",
       "2  imbert new ferry handle journey trinidad guard...   \n",
       "3  panday call unc election due trinidad guardian...   \n",
       "4          v wait report trinidad guardian newspaper   \n",
       "\n",
       "                                          text_clean  \n",
       "0  visit friends families inmates prison faciliti...  \n",
       "1  allyson bakshs resignation governments senate ...  \n",
       "2  finance minister colm imbert insist galleons p...  \n",
       "3  unite national congress unc founder basdeo pan...  \n",
       "4  v oil gas attorneys say yet receive report can...  "
      ]
     },
     "execution_count": 24,
     "metadata": {},
     "output_type": "execute_result"
    }
   ],
   "source": [
    "df.head()"
   ]
  },
  {
   "cell_type": "markdown",
   "metadata": {},
   "source": [
    "###### Topic Modelling on Title"
   ]
  },
  {
   "cell_type": "code",
   "execution_count": 25,
   "metadata": {},
   "outputs": [],
   "source": [
    "def display_topics(H, W, feature_names, documents, no_top_words):\n",
    "    for topic_idx, topic in enumerate(H):\n",
    "        print(\"Topic %d:\" % (topic_idx))\n",
    "        print(\" \".join([feature_names[i]\n",
    "                        for i in topic.argsort()[:-no_top_words - 1:-1]]))"
   ]
  },
  {
   "cell_type": "code",
   "execution_count": 26,
   "metadata": {},
   "outputs": [
    {
     "name": "stdout",
     "output_type": "stream",
     "text": [
      "2374\n"
     ]
    }
   ],
   "source": [
    "documents = list(df[\"title_clean\"])[0:5000]\n",
    "print(len(documents))"
   ]
  },
  {
   "cell_type": "code",
   "execution_count": 27,
   "metadata": {},
   "outputs": [],
   "source": [
    "cv = CountVectorizer(stop_words = 'english')\n",
    "tfidf = TfidfVectorizer(stop_words = 'english')\n",
    "\n",
    "cv_vec=cv.fit_transform(documents)\n",
    "tf_vec=tfidf.fit_transform(documents)\n",
    "\n",
    "tf_feature_names=tfidf.get_feature_names()\n",
    "cv_feature_names=cv.get_feature_names()"
   ]
  },
  {
   "cell_type": "code",
   "execution_count": 28,
   "metadata": {},
   "outputs": [],
   "source": [
    "num_topics=15\n",
    "num_top_words = 10"
   ]
  },
  {
   "cell_type": "code",
   "execution_count": 29,
   "metadata": {},
   "outputs": [],
   "source": [
    "#NMF\n",
    "nmf_model = NMF(n_components=num_topics, random_state=1, alpha=.1, l1_ratio=.5, init='nndsvd').fit(tf_vec)\n",
    "nmf_W = nmf_model.transform(tf_vec)\n",
    "nmf_H = nmf_model.components_"
   ]
  },
  {
   "cell_type": "code",
   "execution_count": 30,
   "metadata": {},
   "outputs": [],
   "source": [
    "#LDA\n",
    "lda_model = LatentDirichletAllocation(n_components=num_topics, max_iter=num_topics, learning_method='online', learning_offset=50.,random_state=0).fit(cv_vec)\n",
    "lda_W = lda_model.transform(cv_vec)\n",
    "lda_H = lda_model.components_"
   ]
  },
  {
   "cell_type": "code",
   "execution_count": 31,
   "metadata": {},
   "outputs": [],
   "source": [
    "#SVD\n",
    "lsi_model = TruncatedSVD(n_components=num_topics, n_iter=7, random_state=42).fit(cv_vec)\n",
    "lsi_W = lsi_model.transform(cv_vec)\n",
    "lsi_H = lsi_model.components_"
   ]
  },
  {
   "cell_type": "code",
   "execution_count": 32,
   "metadata": {},
   "outputs": [
    {
     "name": "stdout",
     "output_type": "stream",
     "text": [
      "NMF Topics TF\n",
      "**************************************************************** \n",
      "\n",
      "Topic 0:\n",
      "guardian trinidad newspaper president body need help home family probe\n",
      "Topic 1:\n",
      "charge fraud man sex guardian newspaper trinidad bank worker dui\n",
      "Topic 2:\n",
      "kill man newspaper trinidad guardian crash driver hurt robbery ambush\n",
      "Topic 3:\n",
      "murder court years victim suspect newspaper trinidad guardian free accuse\n",
      "Topic 4:\n",
      "cop arrest drug newspaper trinidad guardian robbery ganja probe leader\n",
      "Topic 5:\n",
      "hold suspect robbery newspaper trinidad guardian airport bust drug attack\n",
      "Topic 6:\n",
      "officer prison dillon health action court immigration protect release laws\n",
      "Topic 7:\n",
      "bail accuse sex grant heist piarco baksh newspaper trinidad guardian\n",
      "Topic 8:\n",
      "shoot dead man newspaper trinidad guardian death employee miss hurt\n",
      "Topic 9:\n",
      "new ferry tobago arrive trinidad guardian newspaper imbert chamber stakeholders\n",
      "Topic 10:\n",
      "pm talk meet team court dominica plate step today defend\n",
      "Topic 11:\n",
      "police men shootout hotlines custody claim want violence help carnival\n",
      "Topic 12:\n",
      "govt owe cancer society opposition intervene house devalue bring chag\n",
      "Topic 13:\n",
      "gun illegal jail seize ammo men arima months raid man\n",
      "Topic 14:\n",
      "woman attack daughter arson stab die husband help free years\n"
     ]
    }
   ],
   "source": [
    "print(\"NMF Topics TF\")\n",
    "print(\"**************************************************************** \\n\")\n",
    "display_topics(nmf_H, nmf_W, tf_feature_names, documents, num_top_words)"
   ]
  },
  {
   "cell_type": "markdown",
   "metadata": {},
   "source": [
    "Crime: topics[ 0, 1, 2, 3, 4, 5, 6, 7, 8, 11, 13, 14]\n",
    "Business: topics [9]\n",
    "Politics: topics [10, 12]"
   ]
  },
  {
   "cell_type": "code",
   "execution_count": 33,
   "metadata": {},
   "outputs": [
    {
     "name": "stdout",
     "output_type": "stream",
     "text": [
      "LDA Topics\n",
      "**************************************************************** \n",
      "\n",
      "Topic 0:\n",
      "threat address caricom break mandir crack huge rainfall folly carnivalrowley\n",
      "Topic 1:\n",
      "churchill obama merkel idols nadias path reform charities mcal ansa\n",
      "Topic 2:\n",
      "unite trust assoc deo singh dr ele stun adopt emas\n",
      "Topic 3:\n",
      "child society relocation agri strong heroes arouca trend porn blind\n",
      "Topic 4:\n",
      "angostura fixin state xenophobia shop cuffie roti ask letter reject\n",
      "Topic 5:\n",
      "guardian trinidad newspaper cop kill charge man murder new police\n",
      "Topic 6:\n",
      "st title worry king dry dock junior classmates implementation prize\n",
      "Topic 7:\n",
      "small rambharat turnout format fan mega farm unveil reserviors season\n",
      "Topic 8:\n",
      "member appoint sherons jlsc robocop clue theyre diplomat throw unanimous\n",
      "Topic 9:\n",
      "open fireworks doors shutdown medics learn tribute archbishop convict socadrome\n",
      "Topic 10:\n",
      "suffer data asylum role value week exploitation involve scandal captivity\n",
      "Topic 11:\n",
      "river privy council grande caroni ssa old dump clf village\n",
      "Topic 12:\n",
      "nsa thief cellphone mindful consequences finally begin sfgh furore feasibility\n",
      "Topic 13:\n",
      "problems magic cheque le pilotsdillon chopper wand hunte solve rally\n",
      "Topic 14:\n",
      "soca monarch big nafeesa bad song adviser mixrowley brick deadly\n"
     ]
    }
   ],
   "source": [
    "print(\"LDA Topics\")\n",
    "print(\"**************************************************************** \\n\")\n",
    "display_topics(lda_H, lda_W, cv_feature_names, documents, num_top_words)\n"
   ]
  },
  {
   "cell_type": "markdown",
   "metadata": {},
   "source": [
    "Crime: Topics [5, 10, 12]\n",
    "Education: Topics [6]\n",
    "Farming: Topic: Topics [7]\n",
    "Politics:Topics [0, 1, 2, 8, 11]\n",
    "Social Issues: Topics [3, 4, 11]\n",
    "Carnival: Topics [0, 9, 14]\n",
    "\n",
    "Topic 13 is unclear.  Several of the topics were also not clear in what their main topic was, example topic 0."
   ]
  },
  {
   "cell_type": "code",
   "execution_count": 34,
   "metadata": {},
   "outputs": [
    {
     "name": "stdout",
     "output_type": "stream",
     "text": [
      "LSI Topics\n",
      "**************************************************************** \n",
      "\n",
      "Topic 0:\n",
      "guardian trinidad newspaper cop kill man charge murder new police\n",
      "Topic 1:\n",
      "cop kill man charge murder shoot bail suspect robbery gun\n",
      "Topic 2:\n",
      "man kill shoot murder charge dead police suspect woman driver\n",
      "Topic 3:\n",
      "charge murder bail suspect court accuse sex fraud years bank\n",
      "Topic 4:\n",
      "shoot man dead charge cop bail gun jail car body\n",
      "Topic 5:\n",
      "new officer prison ferry shoot man tobago dead query police\n",
      "Topic 6:\n",
      "hold suspect shoot police murder dead officer gun prison robbery\n",
      "Topic 7:\n",
      "police charge officer bail kill help prison want driver shoot\n",
      "Topic 8:\n",
      "pm police officer man meet talk prison today court unc\n",
      "Topic 9:\n",
      "hold charge officer pm suspect kill prison gun bail robbery\n",
      "Topic 10:\n",
      "officer prison man jail gun body probe hold dillon court\n",
      "Topic 11:\n",
      "shoot officer prison dead court murder kill dillon today driver\n",
      "Topic 12:\n",
      "govt hold officer ag owe house prison probe want suspect\n",
      "Topic 13:\n",
      "court lawsuit body law today appeal state land cj probe\n",
      "Topic 14:\n",
      "probe want tobago gun ferry oil fake ag jail report\n"
     ]
    }
   ],
   "source": [
    "print(\"LSI Topics\")\n",
    "print(\"**************************************************************** \\n\")\n",
    "display_topics(lsi_H, lsi_W, cv_feature_names, documents, num_top_words)"
   ]
  },
  {
   "cell_type": "markdown",
   "metadata": {},
   "source": [
    "Crime: Topics 0, 1, 2, 3, 4, 5, 6 ,7, 8, 9 10, 11, 12, 13, 14"
   ]
  },
  {
   "cell_type": "markdown",
   "metadata": {},
   "source": [
    "LDA performed poorly as most of it's topic sentences were hard to comprehend and therefore categorize.  This may be fixed by altering the number of topics but for the examination, 15 topics were specified.  NMF performed the best as it's topics were clear and multiple categories were discernable from the topics generated.  LSI only produced one topic and so is not as informative as NMF."
   ]
  },
  {
   "cell_type": "markdown",
   "metadata": {},
   "source": [
    "###### Topic Modelling on Text"
   ]
  },
  {
   "cell_type": "code",
   "execution_count": 35,
   "metadata": {},
   "outputs": [
    {
     "name": "stdout",
     "output_type": "stream",
     "text": [
      "2374\n"
     ]
    }
   ],
   "source": [
    "documents = list(df[\"text_clean\"])[0:5000]\n",
    "print(len(documents))"
   ]
  },
  {
   "cell_type": "code",
   "execution_count": 36,
   "metadata": {},
   "outputs": [],
   "source": [
    "cv_vec=cv.fit_transform(documents)\n",
    "tf_vec=tfidf.fit_transform(documents)\n",
    "\n",
    "tf_feature_names=tfidf.get_feature_names()\n",
    "cv_feature_names=cv.get_feature_names()"
   ]
  },
  {
   "cell_type": "code",
   "execution_count": 37,
   "metadata": {},
   "outputs": [],
   "source": [
    "num_topics=15\n",
    "num_top_words = 10"
   ]
  },
  {
   "cell_type": "code",
   "execution_count": 38,
   "metadata": {},
   "outputs": [],
   "source": [
    "#NMF\n",
    "nmf_model = NMF(n_components=num_topics, random_state=1, alpha=.1, l1_ratio=.5, init='nndsvd').fit(tf_vec)\n",
    "nmf_W = nmf_model.transform(tf_vec)\n",
    "nmf_H = nmf_model.components_"
   ]
  },
  {
   "cell_type": "code",
   "execution_count": 39,
   "metadata": {},
   "outputs": [],
   "source": [
    "#LDA\n",
    "lda_model = LatentDirichletAllocation(n_components=num_topics, max_iter=num_topics, learning_method='online', learning_offset=50.,random_state=0).fit(cv_vec)\n",
    "lda_W = lda_model.transform(cv_vec)\n",
    "lda_H = lda_model.components_"
   ]
  },
  {
   "cell_type": "code",
   "execution_count": 40,
   "metadata": {},
   "outputs": [],
   "source": [
    "#SVD\n",
    "lsi_model = TruncatedSVD(n_components=num_topics, n_iter=7, random_state=42).fit(cv_vec)\n",
    "lsi_W = lsi_model.transform(cv_vec)\n",
    "lsi_H = lsi_model.components_"
   ]
  },
  {
   "cell_type": "code",
   "execution_count": 41,
   "metadata": {},
   "outputs": [
    {
     "name": "stdout",
     "output_type": "stream",
     "text": [
      "NMF Topics TF\n",
      "**************************************************************** \n",
      "\n",
      "Topic 0:\n",
      "say people government work make need come time party national\n",
      "Topic 1:\n",
      "police shoot officer suspect man kill murder road men say\n",
      "Topic 2:\n",
      "archie judge cj sabbatical allegations justice chief president association judicial\n",
      "Topic 3:\n",
      "vessel port ferry passengers tobago sail cabo seabridge passenger flight\n",
      "Topic 4:\n",
      "flood water residents road wasa river areas regional affect say\n",
      "Topic 5:\n",
      "petrotrin oil audit company report internal baksh gas deokiesingh production\n",
      "Topic 6:\n",
      "school students education teachers garcia parent ministry secondary children principal\n",
      "Topic 7:\n",
      "prison officer prisons richards association security inmates boodram kill dillon\n",
      "Topic 8:\n",
      "charge court bail magistrate appear boodram grant allege magistrates accuse\n",
      "Topic 9:\n",
      "band pan carnival mas panorama stage masqueraders trinbago large savannah\n",
      "Topic 10:\n",
      "commissioner police psc dulalchan land commission deputy process service post\n",
      "Topic 11:\n",
      "tax imbert budget increase game billion cent industry finance revenue\n",
      "Topic 12:\n",
      "ffos ema cec injunction lawsuit environmental grant ramcharan claim appeal\n",
      "Topic 13:\n",
      "utt workers union university staff utts million owtu academic retrench\n",
      "Topic 14:\n",
      "minister rowley prime smith keith government dr mcdonald opposition sport\n"
     ]
    }
   ],
   "source": [
    "print(\"NMF Topics TF\")\n",
    "print(\"**************************************************************** \\n\")\n",
    "display_topics(nmf_H, nmf_W, tf_feature_names, documents, num_top_words)"
   ]
  },
  {
   "cell_type": "markdown",
   "metadata": {},
   "source": [
    "Crime/Law: Topics [1, 2, 7, 8,10, 12]\n",
    "Travel: Topic [3]\n",
    "Natural Disaster: Topic [4]\n",
    "Oil and Gas: Topic [5]\n",
    "Education: Topics [6, 13]\n",
    "Carnival: Topic [9]\n",
    "Politics: Topics [0,14]\n",
    "Business: Topic [11]"
   ]
  },
  {
   "cell_type": "code",
   "execution_count": 42,
   "metadata": {},
   "outputs": [
    {
     "name": "stdout",
     "output_type": "stream",
     "text": [
      "LDA Topics\n",
      "**************************************************************** \n",
      "\n",
      "Topic 0:\n",
      "appeal grandison sentence witness convict hon commute testify gulf roopchand\n",
      "Topic 1:\n",
      "temple ebony lawson deposit announcers listeners dasheen pundit managements fabrice\n",
      "Topic 2:\n",
      "song calypso sing baby monarch tuco louis soca volcano oconnor\n",
      "Topic 3:\n",
      "school students education garcia parent children teachers secondary ministry student\n",
      "Topic 4:\n",
      "skeete swain waterwheel skeetes sareta bearer barbadosher leonarda wellgap misplace\n",
      "Topic 5:\n",
      "carnival band mas angostura year medical centre stage city costume\n",
      "Topic 6:\n",
      "band natural pan sciences competition additional open soca nlcb mathematics\n",
      "Topic 7:\n",
      "et ac eu ipsc ut ligula libero nulla vel metus\n",
      "Topic 8:\n",
      "shandong koon koons deshi fulfilment unesco melee disarm baseball discard\n",
      "Topic 9:\n",
      "say minister people government make yesterday work time issue come\n",
      "Topic 10:\n",
      "taylor overs england gayle indies plunkett ali cummins ball rashid\n",
      "Topic 11:\n",
      "alleyne penetration sexual tyrell springer ociu procession seizures crimewatch explosions\n",
      "Topic 12:\n",
      "navas bw jfk kg pound depart narcis https caprietta nogreatertime\n",
      "Topic 13:\n",
      "coast venezuelan fishermen venezuela guard fish water bartholemew venezuelans military\n",
      "Topic 14:\n",
      "police say officer charge home road yesterday man shoot murder\n"
     ]
    }
   ],
   "source": [
    "print(\"LDA Topics\")\n",
    "print(\"**************************************************************** \\n\")\n",
    "display_topics(lda_H, lda_W, cv_feature_names, documents, num_top_words)\n"
   ]
  },
  {
   "cell_type": "markdown",
   "metadata": {},
   "source": [
    "Law/Crime: Topics [0, 11, 14]\n",
    "Business: Topic [1]\n",
    "Carnival: Topics [2, 5, 6]\n",
    "Education: Topic [3]\n",
    "Sports: Topics [8, 10]\n",
    "Politics: Topics [9, 13]\n",
    "\n",
    "Topics 4, 7 and 12 are unclear"
   ]
  },
  {
   "cell_type": "code",
   "execution_count": 43,
   "metadata": {},
   "outputs": [
    {
     "name": "stdout",
     "output_type": "stream",
     "text": [
      "LSI Topics\n",
      "**************************************************************** \n",
      "\n",
      "Topic 0:\n",
      "say police minister people yesterday government make officer time work\n",
      "Topic 1:\n",
      "natural sciences additional open mathematics environmental business ict mohammed languages\n",
      "Topic 2:\n",
      "police officer shoot prison charge kill murder man suspect report\n",
      "Topic 3:\n",
      "minister prime report president court public rowley police state government\n",
      "Topic 4:\n",
      "court judge president justice archie say sabbatical leave chief cj\n",
      "Topic 5:\n",
      "vessel port water ferry company report tobago passengers service yesterday\n",
      "Topic 6:\n",
      "officer say vessel prison port service ferry passengers tobago president\n",
      "Topic 7:\n",
      "minister prime water house president rowley road home tobago flood\n",
      "Topic 8:\n",
      "officer prison people band tobago school national time president trinidad\n",
      "Topic 9:\n",
      "officer water prison minister ministry flood road work house home\n",
      "Topic 10:\n",
      "school report children students minister education ministry parent oil garcia\n",
      "Topic 11:\n",
      "party oil report petrotrin company political people election leader audit\n",
      "Topic 12:\n",
      "water school band flood police residents service people report students\n",
      "Topic 13:\n",
      "president report oil petrotrin tax sabbatical carmona leave cent workers\n",
      "Topic 14:\n",
      "band carnival water minister charge pan court year prime play\n"
     ]
    }
   ],
   "source": [
    "print(\"LSI Topics\")\n",
    "print(\"**************************************************************** \\n\")\n",
    "display_topics(lsi_H, lsi_W, cv_feature_names, documents, num_top_words)"
   ]
  },
  {
   "cell_type": "markdown",
   "metadata": {},
   "source": [
    "Politics: Topics [0, 3, 7, 9]\n",
    "Crime/Law: Topics [2, 4, 8] \n",
    "Education: Topics [1, 10, 12]\n",
    "Travel: Topics [5,6]\n",
    "Oil and Gas: Topics [11, 13]\n",
    "Carnival: Topic [14]"
   ]
  },
  {
   "cell_type": "markdown",
   "metadata": {},
   "source": [
    "LDA performed poorly as most of it's topic sentences were hard to comprehend and therefore categorize.  This may be fixed by altering the number of topics but for the examination, 15 topics were specified.  NMF performed better than LSI because LSI topics tend to be mixed with words such as \"students\" and \"education\" being mixed with \"oil\"."
   ]
  },
  {
   "cell_type": "markdown",
   "metadata": {},
   "source": [
    "When comparing text to titles, in all cases, there were less topics in the titles than in the text.  This is expected as titles seek to give just the gist of the article it names while the text may have multiple topics.\n",
    "\n",
    "However, LSI only produced one title topic while there were many topics in its text.  It therefore may not be accurate.  Although LDA produced some confusing strings, it's topics mostly match between title and text.  NMF produced few topics for title and many more from the text.  However, the title topics for NMF seem to be broad topics that the text topics branch from."
   ]
  },
  {
   "cell_type": "markdown",
   "metadata": {},
   "source": [
    "#### Annonymous Topics"
   ]
  },
  {
   "cell_type": "markdown",
   "metadata": {},
   "source": [
    "Anonymous articles were previously marked as having author \"john doe\".  We will use only the titles and NMF in determining the topics of the anonymous articles.  This is because title and NMF seem to give general, broad topics that are generally accurate to the text being described without giving confusing strings."
   ]
  },
  {
   "cell_type": "code",
   "execution_count": 44,
   "metadata": {},
   "outputs": [
    {
     "data": {
      "text/html": [
       "<div>\n",
       "<style scoped>\n",
       "    .dataframe tbody tr th:only-of-type {\n",
       "        vertical-align: middle;\n",
       "    }\n",
       "\n",
       "    .dataframe tbody tr th {\n",
       "        vertical-align: top;\n",
       "    }\n",
       "\n",
       "    .dataframe thead th {\n",
       "        text-align: right;\n",
       "    }\n",
       "</style>\n",
       "<table border=\"1\" class=\"dataframe\">\n",
       "  <thead>\n",
       "    <tr style=\"text-align: right;\">\n",
       "      <th></th>\n",
       "      <th>num_paragraphs</th>\n",
       "    </tr>\n",
       "  </thead>\n",
       "  <tbody>\n",
       "    <tr>\n",
       "      <th>count</th>\n",
       "      <td>598.000000</td>\n",
       "    </tr>\n",
       "    <tr>\n",
       "      <th>mean</th>\n",
       "      <td>11.242475</td>\n",
       "    </tr>\n",
       "    <tr>\n",
       "      <th>std</th>\n",
       "      <td>21.492854</td>\n",
       "    </tr>\n",
       "    <tr>\n",
       "      <th>min</th>\n",
       "      <td>1.000000</td>\n",
       "    </tr>\n",
       "    <tr>\n",
       "      <th>25%</th>\n",
       "      <td>6.000000</td>\n",
       "    </tr>\n",
       "    <tr>\n",
       "      <th>50%</th>\n",
       "      <td>9.000000</td>\n",
       "    </tr>\n",
       "    <tr>\n",
       "      <th>75%</th>\n",
       "      <td>13.000000</td>\n",
       "    </tr>\n",
       "    <tr>\n",
       "      <th>max</th>\n",
       "      <td>491.000000</td>\n",
       "    </tr>\n",
       "  </tbody>\n",
       "</table>\n",
       "</div>"
      ],
      "text/plain": [
       "       num_paragraphs\n",
       "count      598.000000\n",
       "mean        11.242475\n",
       "std         21.492854\n",
       "min          1.000000\n",
       "25%          6.000000\n",
       "50%          9.000000\n",
       "75%         13.000000\n",
       "max        491.000000"
      ]
     },
     "execution_count": 44,
     "metadata": {},
     "output_type": "execute_result"
    }
   ],
   "source": [
    "anon= df.where(df[\"author\"]==\"john doe\")\n",
    "anon = anon.dropna()\n",
    "anon.describe()"
   ]
  },
  {
   "cell_type": "code",
   "execution_count": 45,
   "metadata": {},
   "outputs": [],
   "source": [
    "documents = list(anon[\"title_clean\"])[0:5000]"
   ]
  },
  {
   "cell_type": "code",
   "execution_count": 46,
   "metadata": {},
   "outputs": [],
   "source": [
    "tf_vec=tfidf.fit_transform(documents)\n",
    "tf_feature_names=tfidf.get_feature_names()"
   ]
  },
  {
   "cell_type": "code",
   "execution_count": 47,
   "metadata": {},
   "outputs": [
    {
     "name": "stdout",
     "output_type": "stream",
     "text": [
      "NMF Topics TF\n",
      "**************************************************************** \n",
      "\n",
      "Topic 0:\n",
      "guardian trinidad newspaper need fete govt workers people miss new\n",
      "Topic 1:\n",
      "murder court charge suspect manzanilla toddlers newspaper trinidad guardian soldier\n",
      "Topic 2:\n",
      "kill driver crash newspaper trinidad guardian truck robbery car hours\n",
      "Topic 3:\n",
      "hold suspect robbery newspaper trinidad guardian bust women drivers valencia\n",
      "Topic 4:\n",
      "gun seize raid ammo illegal men jail central vest round\n",
      "Topic 5:\n",
      "shoot dead hurt time suspect woman dealer wound case charlieville\n",
      "Topic 6:\n",
      "man ambush valencia dump mic charge women kill gas atm\n",
      "Topic 7:\n",
      "cop streets robbery duty reserve dui deosaran courageous mosque hamper\n",
      "Topic 8:\n",
      "pm legacy defend disaster belize praise talk agree people audit\n",
      "Topic 9:\n",
      "body decompose forest dump trunk matura lomas las bullet riddle\n",
      "Topic 10:\n",
      "police hotlines motorcyclistinjured shootout gas escapee custody nab holdup force\n",
      "Topic 11:\n",
      "charge bail sex guardian newspaper trinidad mechanic fraud bank accuse\n",
      "Topic 12:\n",
      "ferry woes extension tobago defend effectiveness annisette question passengers millions\n",
      "Topic 13:\n",
      "cal passengers flight strand plan save trouble atrs chamber problems\n",
      "Topic 14:\n",
      "prison officer recognise service association gunman escape dillon grande meet\n"
     ]
    }
   ],
   "source": [
    "#NMF\n",
    "nmf_model = NMF(n_components=num_topics, random_state=1, alpha=.1, l1_ratio=.5, init='nndsvd').fit(tf_vec)\n",
    "nmf_W = nmf_model.transform(tf_vec)\n",
    "nmf_H = nmf_model.components_\n",
    "\n",
    "print(\"NMF Topics TF\")\n",
    "print(\"**************************************************************** \\n\")\n",
    "display_topics(nmf_H, nmf_W, tf_feature_names, documents, num_top_words)"
   ]
  },
  {
   "cell_type": "markdown",
   "metadata": {},
   "source": [
    "The majority of topics by anonymous authors seem to be about crime.  Topic 0, topic 8 and topic 12 seem to be speaking on politics.  In these cases, the author may have chosen to remain anonymous to avoid some sort of retaliation, political or criminal."
   ]
  },
  {
   "cell_type": "markdown",
   "metadata": {},
   "source": [
    "##### Plotting frequency of articles by author"
   ]
  },
  {
   "cell_type": "code",
   "execution_count": 48,
   "metadata": {
    "scrolled": false
   },
   "outputs": [
    {
     "data": {
      "text/plain": [
       "(array([ 0,  1,  2,  3,  4,  5,  6,  7,  8,  9, 10, 11, 12, 13, 14, 15, 16,\n",
       "        17, 18, 19, 20, 21, 22, 23, 24, 25, 26, 27, 28, 29, 30, 31, 32, 33,\n",
       "        34, 35, 36, 37, 38, 39, 40, 41]),\n",
       " <a list of 42 Text xticklabel objects>)"
      ]
     },
     "execution_count": 48,
     "metadata": {},
     "output_type": "execute_result"
    },
    {
     "data": {
      "image/png": "[encoded data removed]",
      "text/plain": [
       "<Figure size 1296x432 with 1 Axes>"
      ]
     },
     "metadata": {
      "needs_background": "light"
     },
     "output_type": "display_data"
    }
   ],
   "source": [
    "sns.catplot(x=\"author\",  kind=\"count\", data=df,height=6,aspect=3)\n",
    "plt.xticks(rotation=90)"
   ]
  },
  {
   "cell_type": "markdown",
   "metadata": {},
   "source": [
    "When checking frequency of author articles, most articles come from anonymous sources follwed by Rosemarie Sant, Rhondor Dowalt, Gail Alexander and then Shaliza Hassanali."
   ]
  },
  {
   "cell_type": "markdown",
   "metadata": {},
   "source": [
    "###### Plotting distribution of topics by author"
   ]
  },
  {
   "cell_type": "markdown",
   "metadata": {},
   "source": [
    "We will use NMF on the text to assign topics to rows.  For visualization sake and because topics tend to repeat, we will reduce the number of topics to 10"
   ]
  },
  {
   "cell_type": "code",
   "execution_count": 49,
   "metadata": {},
   "outputs": [],
   "source": [
    "documents = list(df[\"text_clean\"])[0:5000]\n",
    "tf_vec=tfidf.fit_transform(documents)\n",
    "tf_feature_names=tfidf.get_feature_names()\n",
    "nmf_model = NMF(n_components=10, random_state=1, alpha=.1, l1_ratio=.5, init='nndsvd').fit(tf_vec)\n",
    "nmf_W = nmf_model.transform(tf_vec)\n",
    "nmf_H = nmf_model.components_"
   ]
  },
  {
   "cell_type": "code",
   "execution_count": 50,
   "metadata": {},
   "outputs": [
    {
     "name": "stdout",
     "output_type": "stream",
     "text": [
      "Topics used for distribution\n",
      "**************************************************************** \n",
      "\n",
      "Topic 0:\n",
      "say minister government people rowley prime work make meet public\n",
      "Topic 1:\n",
      "police shoot officer charge man suspect say murder men kill\n",
      "Topic 2:\n",
      "judge archie cj justice sabbatical allegations chief court president association\n",
      "Topic 3:\n",
      "vessel port ferry passengers tobago sail cabo seabridge passenger flight\n",
      "Topic 4:\n",
      "flood water residents road wasa river say areas regional affect\n",
      "Topic 5:\n",
      "petrotrin oil audit company report internal baksh deokiesingh gas production\n",
      "Topic 6:\n",
      "school students education teachers garcia parent children ministry secondary say\n",
      "Topic 7:\n",
      "prison officer prisons richards boodram association security inmates commissioner kill\n",
      "Topic 8:\n",
      "party election political unc leader elections cop constitution vote congress\n",
      "Topic 9:\n",
      "band carnival pan mas panorama stage masqueraders trinbago large savannah\n"
     ]
    }
   ],
   "source": [
    "print(\"Topics used for distribution\")\n",
    "print(\"**************************************************************** \\n\")\n",
    "display_topics(nmf_H, nmf_W, tf_feature_names, documents, num_top_words)"
   ]
  },
  {
   "cell_type": "markdown",
   "metadata": {},
   "source": [
    "We will try to summarize what these topics above are about\n",
    "0. Politics\n",
    "1. Crime\n",
    "2. Judicial\n",
    "3. Travel\n",
    "4. Natural Disaster\n",
    "5. Oil and Gas\n",
    "6. Education\n",
    "7. Prison\n",
    "8. Elections\n",
    "9. Carnival\n",
    "\n",
    "We managed to summmarize into general, different topics\n"
   ]
  },
  {
   "cell_type": "code",
   "execution_count": 51,
   "metadata": {},
   "outputs": [
    {
     "data": {
      "text/html": [
       "<div>\n",
       "<style scoped>\n",
       "    .dataframe tbody tr th:only-of-type {\n",
       "        vertical-align: middle;\n",
       "    }\n",
       "\n",
       "    .dataframe tbody tr th {\n",
       "        vertical-align: top;\n",
       "    }\n",
       "\n",
       "    .dataframe thead th {\n",
       "        text-align: right;\n",
       "    }\n",
       "</style>\n",
       "<table border=\"1\" class=\"dataframe\">\n",
       "  <thead>\n",
       "    <tr style=\"text-align: right;\">\n",
       "      <th></th>\n",
       "      <th>num_paragraphs</th>\n",
       "      <th>topic</th>\n",
       "    </tr>\n",
       "  </thead>\n",
       "  <tbody>\n",
       "    <tr>\n",
       "      <th>count</th>\n",
       "      <td>2374.000000</td>\n",
       "      <td>2374.000000</td>\n",
       "    </tr>\n",
       "    <tr>\n",
       "      <th>mean</th>\n",
       "      <td>13.730413</td>\n",
       "      <td>1.870682</td>\n",
       "    </tr>\n",
       "    <tr>\n",
       "      <th>std</th>\n",
       "      <td>12.735195</td>\n",
       "      <td>2.572448</td>\n",
       "    </tr>\n",
       "    <tr>\n",
       "      <th>min</th>\n",
       "      <td>1.000000</td>\n",
       "      <td>0.000000</td>\n",
       "    </tr>\n",
       "    <tr>\n",
       "      <th>25%</th>\n",
       "      <td>9.000000</td>\n",
       "      <td>0.000000</td>\n",
       "    </tr>\n",
       "    <tr>\n",
       "      <th>50%</th>\n",
       "      <td>12.000000</td>\n",
       "      <td>1.000000</td>\n",
       "    </tr>\n",
       "    <tr>\n",
       "      <th>75%</th>\n",
       "      <td>16.000000</td>\n",
       "      <td>3.000000</td>\n",
       "    </tr>\n",
       "    <tr>\n",
       "      <th>max</th>\n",
       "      <td>491.000000</td>\n",
       "      <td>9.000000</td>\n",
       "    </tr>\n",
       "  </tbody>\n",
       "</table>\n",
       "</div>"
      ],
      "text/plain": [
       "       num_paragraphs        topic\n",
       "count     2374.000000  2374.000000\n",
       "mean        13.730413     1.870682\n",
       "std         12.735195     2.572448\n",
       "min          1.000000     0.000000\n",
       "25%          9.000000     0.000000\n",
       "50%         12.000000     1.000000\n",
       "75%         16.000000     3.000000\n",
       "max        491.000000     9.000000"
      ]
     },
     "execution_count": 51,
     "metadata": {},
     "output_type": "execute_result"
    }
   ],
   "source": [
    "df[\"topic\"] = nmf_W.argmax(axis=1)\n",
    "df.head()\n",
    "df.describe()"
   ]
  },
  {
   "cell_type": "code",
   "execution_count": 52,
   "metadata": {},
   "outputs": [],
   "source": [
    "df[\"topic\"].replace([0,1,2,3,4,5,6,7,8,9], [\"Politics\", \"Crime\", \"Judicial\", \"Travel\", \"Natural Disaster\", \"Oil and Gas\", \"Education\", \"Prison\", \"Elections\", \"Carnival\"], inplace=True)"
   ]
  },
  {
   "cell_type": "code",
   "execution_count": 53,
   "metadata": {},
   "outputs": [
    {
     "data": {
      "text/plain": [
       "(array([ 0,  1,  2,  3,  4,  5,  6,  7,  8,  9, 10, 11, 12, 13, 14, 15, 16,\n",
       "        17, 18, 19, 20, 21, 22, 23, 24, 25, 26, 27, 28, 29, 30, 31, 32, 33,\n",
       "        34, 35, 36, 37, 38, 39, 40, 41]),\n",
       " <a list of 42 Text xticklabel objects>)"
      ]
     },
     "execution_count": 53,
     "metadata": {},
     "output_type": "execute_result"
    },
    {
     "data": {
      "image/png": "[encoded data removed]",
      "text/plain": [
       "<Figure size 1197.5x360 with 1 Axes>"
      ]
     },
     "metadata": {
      "needs_background": "light"
     },
     "output_type": "display_data"
    }
   ],
   "source": [
    "sns.catplot(x=\"author\",  kind=\"count\", data=df,height=5,aspect=3, hue=\"topic\", dodge=False)\n",
    "plt.xticks(rotation=90)"
   ]
  },
  {
   "cell_type": "markdown",
   "metadata": {},
   "source": [
    "We can now see what topics are mostly talked about.  Anonymous sources talk mainly on crime.  Gail Alexender, Rosemarie Sant and ShalizaHassanali (the top 3 authors of topics after anonymous authors) mostly talk on politics.  From looking at the graph, it seems that crime is the most popular topic followed by politics."
   ]
  },
  {
   "cell_type": "code",
   "execution_count": null,
   "metadata": {},
   "outputs": [],
   "source": []
  }
 ],
 "metadata": {
  "kernelspec": {
   "display_name": "Python 3",
   "language": "python",
   "name": "python3"
  },
  "language_info": {
   "codemirror_mode": {
    "name": "ipython",
    "version": 3
   },
   "file_extension": ".py",
   "mimetype": "text/x-python",
   "name": "python",
   "nbconvert_exporter": "python",
   "pygments_lexer": "ipython3",
   "version": "3.7.4"
  }
 },
 "nbformat": 4,
 "nbformat_minor": 4
}

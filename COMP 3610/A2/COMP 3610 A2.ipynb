{
 "cells": [
  {
   "cell_type": "markdown",
   "metadata": {},
   "source": [
    "816009279\n",
    "Atonia Andall"
   ]
  },
  {
   "cell_type": "markdown",
   "metadata": {},
   "source": [
    "# Part A"
   ]
  },
  {
   "cell_type": "code",
   "execution_count": 27,
   "metadata": {},
   "outputs": [
    {
     "name": "stdout",
     "output_type": "stream",
     "text": [
      "[('t', 3), ('h', 4), ('e', 5), ('q', 1), ('u', 2), ('i', 1), ('c', 1), ('k', 1), ('b', 1), ('r', 3), ('o', 5), ('w', 2), ('n', 2), ('f', 2), ('x', 2), ('j', 1), ('m', 1), ('p', 3), ('s', 2), ('v', 2), ('l', 1), ('a', 4), ('z', 1), ('y', 3), ('d', 2), ('g', 1)]\n"
     ]
    }
   ],
   "source": [
    "from collections import Counter\n",
    "\n",
    "#question 1\n",
    "\n",
    "sentence = 'The quick brown fox jumps over the lazy dog and the fox was very happy'\n",
    "sentence=sentence.lower()\n",
    "freq = list(Counter(\"\".join(filter(str.isalnum, sentence))).items())\n",
    "print(freq)"
   ]
  },
  {
   "cell_type": "code",
   "execution_count": 28,
   "metadata": {},
   "outputs": [
    {
     "name": "stdout",
     "output_type": "stream",
     "text": [
      "[('t', 1), ('h', 1), ('e', 1), ('q', 1), ('u', 1), ('i', 1), ('c', 1), ('k', 1), ('b', 1), ('r', 1), ('o', 1), ('w', 1), ('n', 1), ('f', 1), ('o', 1), ('x', 1), ('j', 1), ('u', 1), ('m', 1), ('p', 1), ('s', 1), ('o', 1), ('v', 1), ('e', 1), ('r', 1), ('t', 1), ('h', 1), ('e', 1), ('l', 1), ('a', 1), ('z', 1), ('y', 1), ('d', 1), ('o', 1), ('g', 1), ('a', 1), ('n', 1), ('d', 1), ('t', 1), ('h', 1), ('e', 1), ('f', 1), ('o', 1), ('x', 1), ('w', 1), ('a', 1), ('s', 1), ('v', 1), ('e', 1), ('r', 1), ('y', 1), ('h', 1), ('a', 1), ('p', 2), ('y', 1)]\n"
     ]
    }
   ],
   "source": [
    "#or\n",
    "\n",
    "alt_freq = list(map(lambda x: Counter(x).items(), sentence.split()))\n",
    "alt_freq = [item for sublist in alt_freq for item in sublist]\n",
    "print(alt_freq)"
   ]
  },
  {
   "cell_type": "code",
   "execution_count": 29,
   "metadata": {},
   "outputs": [],
   "source": [
    "#question 2\n",
    "\n",
    "import pyspark\n",
    "\n",
    "sc = pyspark.SparkContext.getOrCreate()"
   ]
  },
  {
   "cell_type": "code",
   "execution_count": 30,
   "metadata": {},
   "outputs": [
    {
     "name": "stdout",
     "output_type": "stream",
     "text": [
      "[('t', 3), ('h', 4), ('e', 5), ('q', 1), ('u', 2), ('i', 1), ('c', 1), ('k', 1), ('b', 1), ('r', 3), ('o', 5), ('w', 2), ('n', 2), ('f', 2), ('x', 2), ('j', 1), ('m', 1), ('p', 3), ('s', 2), ('v', 2), ('l', 1), ('a', 4), ('z', 1), ('y', 3), ('d', 2), ('g', 1)]\n"
     ]
    }
   ],
   "source": [
    "#question 3 & 4\n",
    "\n",
    "rdd = sc.parallelize(freq)\n",
    "print(rdd.collect())"
   ]
  },
  {
   "cell_type": "code",
   "execution_count": 31,
   "metadata": {},
   "outputs": [
    {
     "name": "stdout",
     "output_type": "stream",
     "text": [
      "[('i', 1), ('r', 3), ('s', 2), ('l', 1), ('y', 3), ('g', 1), ('e', 5), ('m', 1), ('a', 4), ('z', 1), ('j', 1), ('t', 3), ('q', 1), ('k', 1), ('n', 2), ('c', 1), ('b', 1), ('p', 3), ('w', 2), ('x', 2), ('h', 4), ('d', 2), ('u', 2), ('o', 5), ('f', 2), ('v', 2)]\n"
     ]
    }
   ],
   "source": [
    "#or\n",
    "\n",
    "alt_rdd = sc.parallelize(alt_freq)\n",
    "print( alt_rdd.reduceByKey(lambda x, y: x+y).collect())"
   ]
  },
  {
   "cell_type": "code",
   "execution_count": 32,
   "metadata": {},
   "outputs": [
    {
     "data": {
      "text/plain": [
       "[('i', [1]),\n",
       " ('r', [1, 1, 1]),\n",
       " ('s', [1, 1]),\n",
       " ('l', [1]),\n",
       " ('y', [1, 1, 1]),\n",
       " ('g', [1]),\n",
       " ('e', [1, 1, 1, 1, 1]),\n",
       " ('m', [1]),\n",
       " ('a', [1, 1, 1, 1]),\n",
       " ('z', [1]),\n",
       " ('j', [1]),\n",
       " ('t', [1, 1, 1]),\n",
       " ('q', [1]),\n",
       " ('k', [1]),\n",
       " ('n', [1, 1]),\n",
       " ('c', [1]),\n",
       " ('b', [1]),\n",
       " ('p', [1, 2]),\n",
       " ('w', [1, 1]),\n",
       " ('x', [1, 1]),\n",
       " ('h', [1, 1, 1, 1]),\n",
       " ('d', [1, 1]),\n",
       " ('u', [1, 1]),\n",
       " ('o', [1, 1, 1, 1, 1]),\n",
       " ('f', [1, 1]),\n",
       " ('v', [1, 1])]"
      ]
     },
     "execution_count": 32,
     "metadata": {},
     "output_type": "execute_result"
    }
   ],
   "source": [
    "#question 5\n",
    "rdd3 =  alt_rdd.groupByKey()\n",
    "rdd3.map(lambda x: (x[0], list(x[1]))).collect()"
   ]
  },
  {
   "cell_type": "markdown",
   "metadata": {},
   "source": [
    "# Part B"
   ]
  },
  {
   "cell_type": "code",
   "execution_count": 1,
   "metadata": {},
   "outputs": [],
   "source": [
    "import pyspark\n",
    "from pyspark.sql import SparkSession\n",
    "from pyspark import SparkContext\n",
    "from pyspark.sql import SQLContext\n",
    "from pyspark.sql import Row\n",
    "from pyspark.sql.types import *\n",
    "from pyspark.sql.functions import *\n",
    "import pyspark.sql.functions as f"
   ]
  },
  {
   "cell_type": "code",
   "execution_count": 2,
   "metadata": {},
   "outputs": [],
   "source": [
    "#question 1\n",
    "sc = pyspark.SparkContext.getOrCreate()\n",
    "sqlContext = SQLContext(sc)"
   ]
  },
  {
   "cell_type": "code",
   "execution_count": 3,
   "metadata": {},
   "outputs": [
    {
     "name": "stdout",
     "output_type": "stream",
     "text": [
      "1581\n"
     ]
    },
    {
     "data": {
      "text/plain": [
       "[',id,name,username',\n",
       " '0,AVpe7AsMilAPnD_xQ78G,Kindle Paperwhite,Cristina M',\n",
       " '1,AVpe7AsMilAPnD_xQ78G,Kindle Paperwhite,Ricky',\n",
       " '2,AVpe7AsMilAPnD_xQ78G,Kindle Paperwhite,Tedd Gardiner',\n",
       " '3,AVpe7AsMilAPnD_xQ78G,Kindle Paperwhite,Dougal']"
      ]
     },
     "execution_count": 3,
     "metadata": {},
     "output_type": "execute_result"
    }
   ],
   "source": [
    "#question 2\n",
    "file = sc.textFile(\"amazon_reviews.csv\",\n",
    "            use_unicode=True)\n",
    "print(file.count())\n",
    "file.take(5)"
   ]
  },
  {
   "cell_type": "code",
   "execution_count": 4,
   "metadata": {},
   "outputs": [],
   "source": [
    "header = file.first()\n",
    "fileHeader = file.filter(lambda row:row == header)\n",
    "fileHeader.collect()\n",
    "file = file.subtract(fileHeader)"
   ]
  },
  {
   "cell_type": "code",
   "execution_count": 5,
   "metadata": {},
   "outputs": [
    {
     "name": "stdout",
     "output_type": "stream",
     "text": [
      "1580\n"
     ]
    },
    {
     "data": {
      "text/plain": [
       "[Row(entry='0', id='AVpe7AsMilAPnD_xQ78G', product='Kindle Paperwhite', username='Cristina M'),\n",
       " Row(entry='1', id='AVpe7AsMilAPnD_xQ78G', product='Kindle Paperwhite', username='Ricky'),\n",
       " Row(entry='2', id='AVpe7AsMilAPnD_xQ78G', product='Kindle Paperwhite', username='Tedd Gardiner'),\n",
       " Row(entry='3', id='AVpe7AsMilAPnD_xQ78G', product='Kindle Paperwhite', username='Dougal'),\n",
       " Row(entry='16', id='AVpe7AsMilAPnD_xQ78G', product='Kindle Paperwhite', username='Louis simard'),\n",
       " Row(entry='17', id='AVpe7AsMilAPnD_xQ78G', product='Kindle Paperwhite', username='JanetC'),\n",
       " Row(entry='20', id='AVpe7AsMilAPnD_xQ78G', product='Kindle Paperwhite', username='Fil Gambatesa'),\n",
       " Row(entry='21', id='AVpe7AsMilAPnD_xQ78G', product='Kindle Paperwhite', username='Roy Bennett'),\n",
       " Row(entry='24', id='AVpfBEWcilAPnD_xTGb7', product='Kindle Keyboard', username='Matthew Coenen'),\n",
       " Row(entry='35', id='AVpfBEWcilAPnD_xTGb7', product='Kindle Keyboard', username='Jeffrey Stanley')]"
      ]
     },
     "execution_count": 5,
     "metadata": {},
     "output_type": "execute_result"
    }
   ],
   "source": [
    "file = file.map(lambda line: line.split(\",\"))\n",
    "file = file.map(lambda line: Row( entry=line[0], id=line[1], product=line[2], username=line[3]) )\n",
    "print(file.count())\n",
    "file.take(10)"
   ]
  },
  {
   "cell_type": "code",
   "execution_count": 6,
   "metadata": {},
   "outputs": [
    {
     "name": "stdout",
     "output_type": "stream",
     "text": [
      "+-----+--------------------+--------------------+--------------------+\n",
      "|entry|                  id|             product|            username|\n",
      "+-----+--------------------+--------------------+--------------------+\n",
      "|    0|AVpe7AsMilAPnD_xQ78G|   Kindle Paperwhite|          Cristina M|\n",
      "|    1|AVpe7AsMilAPnD_xQ78G|   Kindle Paperwhite|               Ricky|\n",
      "|    2|AVpe7AsMilAPnD_xQ78G|   Kindle Paperwhite|       Tedd Gardiner|\n",
      "|    3|AVpe7AsMilAPnD_xQ78G|   Kindle Paperwhite|              Dougal|\n",
      "|   16|AVpe7AsMilAPnD_xQ78G|   Kindle Paperwhite|        Louis simard|\n",
      "|   17|AVpe7AsMilAPnD_xQ78G|   Kindle Paperwhite|              JanetC|\n",
      "|   20|AVpe7AsMilAPnD_xQ78G|   Kindle Paperwhite|       Fil Gambatesa|\n",
      "|   21|AVpe7AsMilAPnD_xQ78G|   Kindle Paperwhite|         Roy Bennett|\n",
      "|   24|AVpfBEWcilAPnD_xTGb7|     Kindle Keyboard|      Matthew Coenen|\n",
      "|   35|AVpfBEWcilAPnD_xTGb7|     Kindle Keyboard|     Jeffrey Stanley|\n",
      "|   40|AVpfBEWcilAPnD_xTGb7|     Kindle Keyboard|Jean F. Bryant Wo...|\n",
      "|   43|AVpfBEWcilAPnD_xTGb7|     Kindle Keyboard|                 ken|\n",
      "|   44|AVpfBEWcilAPnD_xTGb7|     Kindle Keyboard|          Lucky Luke|\n",
      "|   55|AVpff7_VilAPnD_xc1E_|Certified Refurbi...|    Gregory P. Baker|\n",
      "|   57|AVpff7_VilAPnD_xc1E_|Certified Refurbi...|              Dallas|\n",
      "|   65|AVpff7_VilAPnD_xc1E_|Certified Refurbi...|      William Hardin|\n",
      "|   73|AVpff7_VilAPnD_xc1E_|Certified Refurbi...|              Dallas|\n",
      "|   75|AVpff7_VilAPnD_xc1E_|Certified Refurbi...|               Mandy|\n",
      "|   77|AVpff7_VilAPnD_xc1E_|Certified Refurbi...|               Mandy|\n",
      "|   80|AVpff7_VilAPnD_xc1E_|Certified Refurbi...|      William Hardin|\n",
      "+-----+--------------------+--------------------+--------------------+\n",
      "only showing top 20 rows\n",
      "\n"
     ]
    }
   ],
   "source": [
    "#question 3\n",
    "df = sqlContext.createDataFrame(file)\n",
    "df.show()"
   ]
  },
  {
   "cell_type": "code",
   "execution_count": 65,
   "metadata": {},
   "outputs": [
    {
     "name": "stdout",
     "output_type": "stream",
     "text": [
      "+--------------------+-----+\n",
      "|             product|count|\n",
      "+--------------------+-----+\n",
      "|Amazon Tap - Alex...|  542|\n",
      "|      Amazon Fire TV|  166|\n",
      "|Amazon Premium He...|  133|\n",
      "|    Fire HD 6 Tablet|   87|\n",
      "|\"Kindle Fire HDX ...|   53|\n",
      "|\"Kindle Fire HDX ...|   43|\n",
      "|\"Kindle Fire HD 7\"\"\"|   41|\n",
      "|   Kindle Paperwhite|   39|\n",
      "|Certified Refurbi...|   38|\n",
      "|     Kindle Keyboard|   32|\n",
      "|All-New Amazon Fi...|   27|\n",
      "|              Kindle|   20|\n",
      "|Amazon 5W USB Off...|   19|\n",
      "|All-New Amazon Fi...|   18|\n",
      "|Replacement Remot...|   17|\n",
      "|Echo Dot (2nd Gen...|   13|\n",
      "|All-New Amazon Ki...|   13|\n",
      "|Moshi Anti-Glare ...|   12|\n",
      "|Amazon Kindle Oas...|   12|\n",
      "|Alexa Voice Remot...|   12|\n",
      "+--------------------+-----+\n",
      "only showing top 20 rows\n",
      "\n"
     ]
    }
   ],
   "source": [
    "#question 4\n",
    "\n",
    "df.groupBy(\"product\").count().sort(\"count\", ascending = False).show(20)"
   ]
  },
  {
   "cell_type": "code",
   "execution_count": 22,
   "metadata": {},
   "outputs": [
    {
     "name": "stdout",
     "output_type": "stream",
     "text": [
      "+-------------------+-----+--------------------+----------+\n",
      "|           username|count|             product|prod_count|\n",
      "+-------------------+-----+--------------------+----------+\n",
      "|          A. Younan|   59|Amazon Premium He...|        59|\n",
      "|     William Hardin|   58|Certified Refurbi...|        12|\n",
      "|     William Hardin|   58|      Amazon Fire TV|        16|\n",
      "|     William Hardin|   58|    Fire HD 6 Tablet|        30|\n",
      "|             Andrew|   43|Amazon Premium He...|        43|\n",
      "|          Victor L.|   30|Amazon Premium He...|        30|\n",
      "|            Mike W.|   29|    Fire HD 6 Tablet|        29|\n",
      "|                 NF|   29|\"Kindle Fire HDX ...|        15|\n",
      "|                 NF|   29|\"Kindle Fire HD 7\"\"\"|        14|\n",
      "|      Earthling1984|   28|    Fire HD 6 Tablet|        28|\n",
      "|    Amazon Reviewer|   27|\"Kindle Fire HDX ...|        14|\n",
      "|    Amazon Reviewer|   27|\"Kindle Fire HDX ...|        13|\n",
      "|              Mandy|   26|Certified Refurbi...|        10|\n",
      "|              Mandy|   26|      Amazon Fire TV|        16|\n",
      "|    Amazon Customer|   22|      Amazon Fire TV|         3|\n",
      "|    Amazon Customer|   22|Certified Refurbi...|         1|\n",
      "|    Amazon Customer|   22|All-New Amazon Ki...|         2|\n",
      "|    Amazon Customer|   22|Amazon 5W USB Off...|         1|\n",
      "|    Amazon Customer|   22|\"Kindle Fire HD 7\"\"\"|         1|\n",
      "|    Amazon Customer|   22|All-New Fire HD 8...|         1|\n",
      "|    Amazon Customer|   22|Replacement Remot...|         1|\n",
      "|    Amazon Customer|   22|All-New Fire HD 8...|         1|\n",
      "|    Amazon Customer|   22|Moshi Anti-Glare ...|         1|\n",
      "|    Amazon Customer|   22|All-New Fire 7 Ki...|         1|\n",
      "|    Amazon Customer|   22|Kindle for Kids B...|         1|\n",
      "|    Amazon Customer|   22|Alexa Voice Remot...|         3|\n",
      "|    Amazon Customer|   22|\"Kindle Fire HDX ...|         1|\n",
      "|    Amazon Customer|   22|Certified Refurbi...|         1|\n",
      "|    Amazon Customer|   22|Certified Refurbi...|         1|\n",
      "|    Amazon Customer|   22|All-New Amazon Fi...|         2|\n",
      "|             Dallas|   20|      Amazon Fire TV|        12|\n",
      "|             Dallas|   20|Certified Refurbi...|         8|\n",
      "|   Gregory P. Baker|   19|Certified Refurbi...|         8|\n",
      "|   Gregory P. Baker|   19|      Amazon Fire TV|        11|\n",
      "|  Michael Gallagher|   17|\"Kindle Fire HDX ...|        12|\n",
      "|  Michael Gallagher|   17|    Fire HD 7 Tablet|         1|\n",
      "|  Michael Gallagher|   17|Certified Refurbi...|         2|\n",
      "|  Michael Gallagher|   17|              Kindle|         1|\n",
      "|  Michael Gallagher|   17| Fire HDX 8.9 Tablet|         1|\n",
      "|         B. Tarbuck|   16|\"Kindle Fire HDX ...|        16|\n",
      "|        J. Chambers|   13|Kindle Paperwhite 3G|         1|\n",
      "|        J. Chambers|   13|Kindle Voyage E-r...|         1|\n",
      "|        J. Chambers|   13|Kindle Oasis E-re...|         1|\n",
      "|        J. Chambers|   13|Certified Refurbi...|         1|\n",
      "|        J. Chambers|   13|All-New Amazon Fi...|         1|\n",
      "|        J. Chambers|   13|   Kindle Paperwhite|         5|\n",
      "|        J. Chambers|   13|Certified Refurbi...|         1|\n",
      "|        J. Chambers|   13|Kindle Paperwhite...|         2|\n",
      "|           D. Miyao|   10|Amazon Echo Dot C...|         2|\n",
      "|           D. Miyao|   10|Amazon Echo Dot C...|         2|\n",
      "|           D. Miyao|   10|Amazon Echo Dot C...|         2|\n",
      "|           D. Miyao|   10|Amazon Echo Dot C...|         1|\n",
      "|           D. Miyao|   10|Amazon Echo Dot C...|         1|\n",
      "|           D. Miyao|   10|Amazon Echo Dot C...|         2|\n",
      "|              MarkM|   10|\"Kindle Fire HD 7\"\"\"|        10|\n",
      "|\"Things I Love Like|    9|\"Kindle Fire HDX ...|         9|\n",
      "|     Judy Schechter|    8|\"Kindle Fire HD 7\"\"\"|         8|\n",
      "|                Bob|    7|Amazon Echo Dot C...|         1|\n",
      "|                Bob|    7|Amazon Echo Dot C...|         1|\n",
      "|                Bob|    7|      Amazon Fire TV|         1|\n",
      "|                Bob|    7|Amazon Echo Dot C...|         1|\n",
      "|                Bob|    7|Amazon Echo Dot C...|         1|\n",
      "|                Bob|    7|Amazon Echo Dot C...|         1|\n",
      "|                Bob|    7|Amazon Echo Dot C...|         1|\n",
      "+-------------------+-----+--------------------+----------+\n",
      "\n"
     ]
    }
   ],
   "source": [
    "#question 5\n",
    "usr = sqlContext.createDataFrame(df.groupBy(\"username\").count().sort(\"count\", ascending = False).head(20))\n",
    "usr_prod = df.groupBy(\"username\", \"product\").agg(f.count(\"product\").alias(\"prod_count\"))\n",
    "\n",
    "usr = usr.join(usr_prod, on=[\"username\"], how=\"inner\").sort(\"count\", ascending = False)\n",
    "\n",
    "usr.show(usr.count())\n"
   ]
  },
  {
   "cell_type": "code",
   "execution_count": 116,
   "metadata": {},
   "outputs": [
    {
     "data": {
      "text/plain": [
       "[('Kindle Paperwhite', 'Cristina M'),\n",
       " ('Kindle Paperwhite', 'Ricky'),\n",
       " ('Kindle Paperwhite', 'Tedd Gardiner'),\n",
       " ('Kindle Paperwhite', 'Dougal'),\n",
       " ('Kindle Paperwhite', 'Louis simard')]"
      ]
     },
     "execution_count": 116,
     "metadata": {},
     "output_type": "execute_result"
    }
   ],
   "source": [
    "#question 6\n",
    "rdd = df.select(\"product\", \"username\").rdd.map(tuple)\n",
    "rdd.take(5)"
   ]
  },
  {
   "cell_type": "code",
   "execution_count": 120,
   "metadata": {},
   "outputs": [
    {
     "data": {
      "text/plain": [
       "[('Amazon Tap - Alexa-Enabled Portable Bluetooth Speaker', 542),\n",
       " ('Amazon Fire TV', 166),\n",
       " ('Amazon Premium Headphones', 133),\n",
       " ('Fire HD 6 Tablet', 87),\n",
       " ('\"Kindle Fire HDX 7\"\"\"', 53),\n",
       " ('\"Kindle Fire HDX 8.9\"\"\"', 43),\n",
       " ('\"Kindle Fire HD 7\"\"\"', 41),\n",
       " ('Kindle Paperwhite', 39),\n",
       " ('Certified Refurbished Amazon Fire TV (Previous Generation - 1st)', 38),\n",
       " ('Kindle Keyboard', 32),\n",
       " ('All-New Amazon Fire 7 Tablet Case (7th Generation', 27),\n",
       " ('Kindle', 20),\n",
       " ('Amazon 5W USB Official OEM Charger and Power Adapter for Fire Tablets and Kindle eReaders',\n",
       "  19),\n",
       " ('All-New Amazon Fire HD 8 Tablet Case (7th Generation', 18),\n",
       " ('Replacement Remote for Amazon Fire TV Stick', 17),\n",
       " ('All-New Amazon Kid-Proof Case for Amazon Fire 7 Tablet (7th Generation',\n",
       "  13),\n",
       " ('Echo Dot (2nd Generation) - Black', 13),\n",
       " ('Moshi Anti-Glare No Bubble Screen Protector for the Fire Phone', 12),\n",
       " ('Amazon Kindle Oasis Premium Leather Battery Cover - Walnut', 12),\n",
       " ('Alexa Voice Remote for Amazon Fire TV and Fire TV Stick', 12)]"
      ]
     },
     "execution_count": 120,
     "metadata": {},
     "output_type": "execute_result"
    }
   ],
   "source": [
    "#question 7\n",
    "\n",
    "prod = rdd.map(lambda x: (x[0],1)).reduceByKey(lambda x, y: x+y).sortBy(lambda a: -a[1])\n",
    "prod.take(20)"
   ]
  },
  {
   "cell_type": "code",
   "execution_count": 121,
   "metadata": {},
   "outputs": [
    {
     "data": {
      "text/plain": [
       "[('Cristina M', 'Kindle Paperwhite'),\n",
       " ('Ricky', 'Kindle Paperwhite'),\n",
       " ('Tedd Gardiner', 'Kindle Paperwhite'),\n",
       " ('Dougal', 'Kindle Paperwhite'),\n",
       " ('Louis simard', 'Kindle Paperwhite')]"
      ]
     },
     "execution_count": 121,
     "metadata": {},
     "output_type": "execute_result"
    }
   ],
   "source": [
    "#question 8\n",
    "rdd1 = df.select(\"username\", \"product\").rdd.map(tuple)\n",
    "rdd1.take(5)"
   ]
  },
  {
   "cell_type": "code",
   "execution_count": 139,
   "metadata": {},
   "outputs": [
    {
     "data": {
      "text/plain": [
       "[('A. Younan', [('Amazon Premium Headphones', 59)], 59),\n",
       " ('William Hardin',\n",
       "  [('Certified Refurbished Amazon Fire TV (Previous Generation - 1st)', 12),\n",
       "   ('Amazon Fire TV', 16),\n",
       "   ('Fire HD 6 Tablet', 30)],\n",
       "  58),\n",
       " ('Andrew', [('Amazon Premium Headphones', 43)], 43),\n",
       " ('Victor L.', [('Amazon Premium Headphones', 30)], 30),\n",
       " ('NF', [('\"Kindle Fire HD 7\"\"\"', 14), ('\"Kindle Fire HDX 7\"\"\"', 15)], 29),\n",
       " ('Mike W.', [('Fire HD 6 Tablet', 29)], 29),\n",
       " ('Earthling1984', [('Fire HD 6 Tablet', 28)], 28),\n",
       " ('Amazon Reviewer',\n",
       "  [('\"Kindle Fire HDX 8.9\"\"\"', 14), ('\"Kindle Fire HDX 7\"\"\"', 13)],\n",
       "  27),\n",
       " ('Mandy',\n",
       "  [('Certified Refurbished Amazon Fire TV (Previous Generation - 1st)', 10),\n",
       "   ('Amazon Fire TV', 16)],\n",
       "  26),\n",
       " ('Amazon Customer',\n",
       "  [('All-New Fire 7 Kids Edition Tablet', 1),\n",
       "   ('\"Kindle Fire HD 7\"\"\"', 1),\n",
       "   ('Moshi Anti-Glare No Bubble Screen Protector for the Fire Phone', 1),\n",
       "   ('Alexa Voice Remote for Amazon Fire TV and Fire TV Stick', 3),\n",
       "   ('Amazon Fire TV', 3),\n",
       "   ('All-New Amazon Fire 7 Tablet Case (7th Generation', 2),\n",
       "   ('All-New Amazon Kid-Proof Case for Amazon Fire 7 Tablet (7th Generation',\n",
       "    2),\n",
       "   ('Kindle for Kids Bundle with the latest Kindle E-reader', 1),\n",
       "   ('Certified Refurbished Fire HD 10 Tablet', 1),\n",
       "   ('Certified Refurbished Kindle E-reader - Black', 1),\n",
       "   ('\"Kindle Fire HDX 8.9\"\"\"', 1),\n",
       "   ('Certified Refurbished Echo Dot (2nd Generation) - Black', 1),\n",
       "   ('Amazon 5W USB Official OEM Charger and Power Adapter for Fire Tablets and Kindle eReaders',\n",
       "    1),\n",
       "   ('All-New Fire HD 8 Tablet with Alexa', 1),\n",
       "   ('All-New Fire HD 8 Kids Edition Tablet', 1),\n",
       "   ('Replacement Remote for Amazon Fire TV Stick', 1)],\n",
       "  22),\n",
       " ('Dallas',\n",
       "  [('Certified Refurbished Amazon Fire TV (Previous Generation - 1st)', 8),\n",
       "   ('Amazon Fire TV', 12)],\n",
       "  20),\n",
       " ('Gregory P. Baker',\n",
       "  [('Certified Refurbished Amazon Fire TV (Previous Generation - 1st)', 8),\n",
       "   ('Amazon Fire TV', 11)],\n",
       "  19),\n",
       " ('Michael Gallagher',\n",
       "  [('\"Kindle Fire HDX 7\"\"\"', 12),\n",
       "   ('Fire HD 7 Tablet', 1),\n",
       "   ('Certified Refurbished Kindle E-reader', 2),\n",
       "   ('Kindle', 1),\n",
       "   ('Fire HDX 8.9 Tablet', 1)],\n",
       "  17),\n",
       " ('B. Tarbuck', [('\"Kindle Fire HDX 8.9\"\"\"', 16)], 16),\n",
       " ('J. Chambers',\n",
       "  [('Kindle Paperwhite', 5),\n",
       "   ('Kindle Voyage E-reader', 1),\n",
       "   ('Kindle Paperwhite 3G', 1),\n",
       "   ('Kindle Oasis E-reader with Leather Charging Cover - Walnut', 1),\n",
       "   ('Certified Refurbished Kindle Voyage E-reader with Special Offers', 1),\n",
       "   ('All-New Amazon Fire HD 8 Tablet Case (7th Generation', 1),\n",
       "   ('Kindle Paperwhite E-reader - Black', 2),\n",
       "   ('Certified Refurbished Kindle Paperwhite E-reader - Black', 1)],\n",
       "  13),\n",
       " ('MarkM', [('\"Kindle Fire HD 7\"\"\"', 10)], 10),\n",
       " ('D. Miyao',\n",
       "  [('Amazon Echo Dot Case (fits Echo Dot 2nd Generation only) - Indigo Fabric',\n",
       "    2),\n",
       "   ('Amazon Echo Dot Case (fits Echo Dot 2nd Generation only) - Sandstone Fabric',\n",
       "    1),\n",
       "   ('Amazon Echo Dot Case (fits Echo Dot 2nd Generation only) - Merlot Leather',\n",
       "    1),\n",
       "   ('Amazon Echo Dot Case (fits Echo Dot 2nd Generation only) - Saddle Tan Leather',\n",
       "    2),\n",
       "   ('Amazon Echo Dot Case (fits Echo Dot 2nd Generation only) - Charcoal Fabric',\n",
       "    2),\n",
       "   ('Amazon Echo Dot Case (fits Echo Dot 2nd Generation only) - Midnight Leather',\n",
       "    2)],\n",
       "  10),\n",
       " ('\"Things I Love Like', [('\"Kindle Fire HDX 8.9\"\"\"', 9)], 9),\n",
       " ('Judy Schechter', [('\"Kindle Fire HD 7\"\"\"', 8)], 8),\n",
       " ('Matthew Coenen', [('Kindle Keyboard', 7)], 7)]"
      ]
     },
     "execution_count": 139,
     "metadata": {},
     "output_type": "execute_result"
    }
   ],
   "source": [
    "#question 9\n",
    "cust = rdd1.groupByKey().map( lambda x: (x[0], list(Counter(x[1]).items()), len(list(x[1])) )).sortBy(lambda a: -a[2])\n",
    "cust.take(20)"
   ]
  },
  {
   "cell_type": "code",
   "execution_count": null,
   "metadata": {},
   "outputs": [],
   "source": []
  }
 ],
 "metadata": {
  "kernelspec": {
   "display_name": "Python 3",
   "language": "python",
   "name": "python3"
  },
  "language_info": {
   "codemirror_mode": {
    "name": "ipython",
    "version": 3
   },
   "file_extension": ".py",
   "mimetype": "text/x-python",
   "name": "python",
   "nbconvert_exporter": "python",
   "pygments_lexer": "ipython3",
   "version": "3.7.4"
  }
 },
 "nbformat": 4,
 "nbformat_minor": 2
}
